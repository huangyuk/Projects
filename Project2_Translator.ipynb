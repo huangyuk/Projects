{
  "nbformat": 4,
  "nbformat_minor": 0,
  "metadata": {
    "accelerator": "GPU",
    "colab": {
      "name": "Capstone_Project2_Translator.ipynb",
      "provenance": [],
      "collapsed_sections": []
    },
    "kernelspec": {
      "display_name": "Python 3",
      "language": "python",
      "name": "python3"
    },
    "language_info": {
      "codemirror_mode": {
        "name": "ipython",
        "version": 3
      },
      "file_extension": ".py",
      "mimetype": "text/x-python",
      "name": "python",
      "nbconvert_exporter": "python",
      "pygments_lexer": "ipython3",
      "version": "3.6.9"
    }
  },
  "cells": [
    {
      "cell_type": "markdown",
      "metadata": {
        "id": "vsX0L1sG1iZj"
      },
      "source": [
        "# Capstone Project\n",
        "## Neural translation model\n",
        "### Instructions\n",
        "\n",
        "In this notebook, you will create a neural network that translates from English to German. You will use concepts from throughout this course, including building more flexible model architectures, freezing layers, data processing pipeline and sequence modelling.\n",
        "\n",
        "This project is peer-assessed. Within this notebook you will find instructions in each section for how to complete the project. Pay close attention to the instructions as the peer review will be carried out according to a grading rubric that checks key parts of the project instructions. Feel free to add extra cells into the notebook as required.\n",
        "\n",
        "### How to submit\n",
        "\n",
        "When you have completed the Capstone project notebook, you will submit a pdf of the notebook for peer review. First ensure that the notebook has been fully executed from beginning to end, and all of the cell outputs are visible. This is important, as the grading rubric depends on the reviewer being able to view the outputs of your notebook. Save the notebook as a pdf (you could download the notebook with File -> Download .ipynb, open the notebook locally, and then File -> Download as -> PDF via LaTeX), and then submit this pdf for review.\n",
        "\n",
        "### Let's get started!\n",
        "\n",
        "We'll start by running some imports, and loading the dataset. For this project you are free to make further imports throughout the notebook as you wish. "
      ]
    },
    {
      "cell_type": "code",
      "metadata": {
        "id": "2VyTvxPN1iZn"
      },
      "source": [
        "import tensorflow as tf\n",
        "import tensorflow_hub as hub\n",
        "import unicodedata\n",
        "import re\n",
        "import string\n",
        "import numpy as np\n",
        "import sklearn\n",
        "from IPython.display import Image"
      ],
      "execution_count": null,
      "outputs": []
    },
    {
      "cell_type": "markdown",
      "metadata": {
        "id": "wuIi4lAR1iZt"
      },
      "source": [
        "For the capstone project, you will use a language dataset from http://www.manythings.org/anki/ to build a neural translation model. This dataset consists of over 200,000 pairs of sentences in English and German. In order to make the training quicker, we will restrict to our dataset to 20,000 pairs. Feel free to change this if you wish - the size of the dataset used is not part of the grading rubric.\n",
        "\n",
        "Your goal is to develop a neural translation model from English to German, making use of a pre-trained English word embedding module."
      ]
    },
    {
      "cell_type": "markdown",
      "metadata": {
        "id": "pi9Dq6vv3FVO"
      },
      "source": [
        "#### Import the data\n",
        "\n",
        "The dataset is available for download as a zip file at the following link:\n",
        "\n",
        "https://drive.google.com/open?id=1KczOciG7sYY7SB9UlBeRP1T9659b121Q\n",
        "\n",
        "You should store the unzipped folder in Drive for use in this Colab notebook."
      ]
    },
    {
      "cell_type": "code",
      "metadata": {
        "id": "wmsS0T7_LR82",
        "outputId": "c2ad6885-603c-4b6b-8daa-48c4e6ca2dab",
        "colab": {
          "base_uri": "https://localhost:8080/",
          "height": 35
        }
      },
      "source": [
        "from google.colab import drive\n",
        "drive.mount('/content/gdrive')"
      ],
      "execution_count": null,
      "outputs": [
        {
          "output_type": "stream",
          "text": [
            "Drive already mounted at /content/gdrive; to attempt to forcibly remount, call drive.mount(\"/content/gdrive\", force_remount=True).\n"
          ],
          "name": "stdout"
        }
      ]
    },
    {
      "cell_type": "code",
      "metadata": {
        "id": "o8PetPpw1iZu"
      },
      "source": [
        "# Run this cell to load the dataset\n",
        "\n",
        "NUM_EXAMPLES = 20000\n",
        "data_examples = []\n",
        "with open('/content/gdrive/My Drive/colab/deu.txt', 'r', encoding='utf8') as f:\n",
        "    for line in f.readlines():\n",
        "        if len(data_examples) < NUM_EXAMPLES:\n",
        "            data_examples.append(line)\n",
        "        else:\n",
        "            break"
      ],
      "execution_count": null,
      "outputs": []
    },
    {
      "cell_type": "code",
      "metadata": {
        "id": "JumLjJ631iZy"
      },
      "source": [
        "# These functions preprocess English and German sentences\n",
        "\n",
        "def unicode_to_ascii(s):\n",
        "    return ''.join(c for c in unicodedata.normalize('NFD', s) if unicodedata.category(c) != 'Mn')\n",
        "\n",
        "def preprocess_sentence(sentence):\n",
        "    sentence = sentence.lower().strip()\n",
        "    sentence = re.sub(r\"ü\", 'ue', sentence)\n",
        "    sentence = re.sub(r\"ä\", 'ae', sentence)\n",
        "    sentence = re.sub(r\"ö\", 'oe', sentence)\n",
        "    sentence = re.sub(r'ß', 'ss', sentence)\n",
        "    \n",
        "    sentence = unicode_to_ascii(sentence)\n",
        "    sentence = re.sub(r\"([?.!,])\", r\" \\1 \", sentence)\n",
        "    sentence = re.sub(r\"[^a-z?.!,']+\", \" \", sentence)\n",
        "    sentence = re.sub(r'[\" \"]+', \" \", sentence)\n",
        "    \n",
        "    return sentence.strip()"
      ],
      "execution_count": null,
      "outputs": []
    },
    {
      "cell_type": "markdown",
      "metadata": {
        "id": "XFJap-TW1iZ2"
      },
      "source": [
        "#### The custom translation model\n",
        "The following is a schematic of the custom translation model architecture you will develop in this project."
      ]
    },
    {
      "cell_type": "code",
      "metadata": {
        "id": "gBF1K2JN4RFJ",
        "outputId": "2a987da3-a396-464c-ad1e-d81fa9014b61",
        "colab": {
          "base_uri": "https://localhost:8080/",
          "height": 648
        }
      },
      "source": [
        "# Run this cell to download and view a schematic diagram for the neural translation model\n",
        "\n",
        "!wget -q -O neural_translation_model.png --no-check-certificate \"https://docs.google.com/uc?export=download&id=1XsS1VlXoaEo-RbYNilJ9jcscNZvsSPmd\"\n",
        "Image(\"neural_translation_model.png\")"
      ],
      "execution_count": null,
      "outputs": [
        {
          "output_type": "execute_result",
          "data": {
            "image/png": "[encoded data removed]",
            "text/plain": [
              "<IPython.core.display.Image object>"
            ]
          },
          "metadata": {
            "tags": []
          },
          "execution_count": 7
        }
      ]
    },
    {
      "cell_type": "markdown",
      "metadata": {
        "id": "0fP7P-yK4RS7"
      },
      "source": [
        "The custom model consists of an encoder RNN and a decoder RNN. The encoder takes words of an English sentence as input, and uses a pre-trained word embedding to embed the words into a 128-dimensional space. To indicate the end of the input sentence, a special end token (in the same 128-dimensional space) is passed in as an input. This token is a TensorFlow Variable that is learned in the training phase (unlike the pre-trained word embedding, which is frozen).\n",
        "\n",
        "The decoder RNN takes the internal state of the encoder network as its initial state. A start token is passed in as the first input, which is embedded using a learned German word embedding. The decoder RNN then makes a prediction for the next German word, which during inference is then passed in as the following input, and this process is repeated until the special `<end>` token is emitted from the decoder."
      ]
    },
    {
      "cell_type": "markdown",
      "metadata": {
        "id": "z70nu6_01iZ3"
      },
      "source": [
        "## 1. Text preprocessing\n",
        "* Create separate lists of English and German sentences, and preprocess them using the `preprocess_sentence` function provided for you above.\n",
        "* Add a special `\"<start>\"` and `\"<end>\"` token to the beginning and end of every German sentence.\n",
        "* Use the Tokenizer class from the `tf.keras.preprocessing.text` module to tokenize the German sentences, ensuring that no character filters are applied. _Hint: use the Tokenizer's \"filter\" keyword argument._\n",
        "* Print out at least 5 randomly chosen examples of (preprocessed) English and German sentence pairs. For the German sentence, print out the text (with start and end tokens) as well as the tokenized sequence.\n",
        "* Pad the end of the tokenized German sequences with zeros, and batch the complete set of sequences into one numpy array."
      ]
    },
    {
      "cell_type": "code",
      "metadata": {
        "id": "7Ui4qLlqLQAu",
        "outputId": "a4659334-d048-408f-e310-41706a5f280e",
        "colab": {
          "base_uri": "https://localhost:8080/",
          "height": 35
        }
      },
      "source": [
        "preprocess_sentence(data_examples[15414])"
      ],
      "execution_count": null,
      "outputs": [
        {
          "output_type": "execute_result",
          "data": {
            "application/vnd.google.colaboratory.intrinsic+json": {
              "type": "string"
            },
            "text/plain": [
              "'just a moment . . . einen augenblick . . . cc by . france attribution tatoeba . org witbrock robroy'"
            ]
          },
          "metadata": {
            "tags": []
          },
          "execution_count": 8
        }
      ]
    },
    {
      "cell_type": "code",
      "metadata": {
        "id": "9G20C4bk1iZ4",
        "scrolled": true
      },
      "source": [
        "english_sents=[]\n",
        "german_sents=[]\n",
        "for i in range(20000):\n",
        "    sent=preprocess_sentence(data_examples[i])\n",
        "    sent=sent.split(' cc ')[0]\n",
        "    if len(sent.split(' . '))==2:\n",
        "        english_sents.append(sent.split(' . ')[0]+\" . \")\n",
        "        german_sents.append(sent.split(' . ')[1])\n",
        "    elif len(sent.split(' ? '))==2:\n",
        "        english_sents.append(sent.split(' ? ')[0]+\" ? \")\n",
        "        german_sents.append(sent.split(' ? ')[1])\n",
        "    elif len(sent.split(' ! '))==2:\n",
        "        english_sents.append(sent.split(' ! ')[0]+\" ! \")\n",
        "        german_sents.append(sent.split(' ! ')[1])\n",
        "    else:\n",
        "        m=sent.find('.',5)\n",
        "        if m>4 and m!=len(sent)-1:\n",
        "            if 'p' in sent[m-3:m-1]:\n",
        "                english_sents.append(sent[:m+3])\n",
        "                german_sents.append(sent[m+3:])\n",
        "            else:\n",
        "                english_sents.append(sent[:m+1])\n",
        "                german_sents.append(sent[m+1:])\n",
        "        else:\n",
        "            english_sents.append(sent[:len(sent)//2-3])\n",
        "            german_sents.append(sent[len(sent)//2-3:])\n",
        "german_sents_pure=german_sents.copy() \n",
        "for i in range(len(german_sents)):\n",
        "    german_sents[i]=\"<start> \"+german_sents[i]+\" <end>\""
      ],
      "execution_count": null,
      "outputs": []
    },
    {
      "cell_type": "code",
      "metadata": {
        "id": "5UlnBdIK1iaE"
      },
      "source": [
        "tokenizer = tf.keras.preprocessing.text.Tokenizer(filters=\"\", lower=True, split=' ', document_count=0)\n",
        "tokenizer.fit_on_texts(german_sents)\n",
        "german_seq=tokenizer.texts_to_sequences(german_sents)"
      ],
      "execution_count": null,
      "outputs": []
    },
    {
      "cell_type": "code",
      "metadata": {
        "id": "8qSzMmOcLQA2",
        "scrolled": true,
        "outputId": "a5bf5464-f2aa-4e7c-ac62-871296322145",
        "colab": {
          "base_uri": "https://localhost:8080/",
          "height": 290
        }
      },
      "source": [
        "sample=np.random.randint(20000,size=5)\n",
        "for i in sample:\n",
        "    print(\"English:\",english_sents[i],\"  \")\n",
        "    print(\"German:\",german_sents[i],\"  In seqences:\", german_seq[i],\"\\n\")"
      ],
      "execution_count": null,
      "outputs": [
        {
          "output_type": "stream",
          "text": [
            "English: does it show ?    \n",
            "German: <start> merkt man es ? <end>   In seqences: [1, 3393, 305, 10, 7, 2] \n",
            "\n",
            "English: tom felt lonely .    \n",
            "German: <start> tom fuehlte sich einsam . <end>   In seqences: [1, 5, 234, 34, 552, 3, 2] \n",
            "\n",
            "English: tom said hello .    \n",
            "German: <start> tom sagte hallo . <end>   In seqences: [1, 5, 241, 405, 3, 2] \n",
            "\n",
            "English: did you enjoy it ?    \n",
            "German: <start> hat es dir spass gemacht ? <end>   In seqences: [1, 16, 10, 52, 170, 101, 7, 2] \n",
            "\n",
            "English: she obeys him .    \n",
            "German: <start> sie ist ihm hoerig . <end>   In seqences: [1, 8, 6, 123, 3668, 3, 2] \n",
            "\n"
          ],
          "name": "stdout"
        }
      ]
    },
    {
      "cell_type": "code",
      "metadata": {
        "id": "gvX-u0TkLQA5",
        "outputId": "8f7730fe-5e7d-4b49-a819-f0bf73def8e6",
        "colab": {
          "base_uri": "https://localhost:8080/",
          "height": 35
        }
      },
      "source": [
        "len(sorted(german_seq, key=lambda t: len(t))[-1])"
      ],
      "execution_count": null,
      "outputs": [
        {
          "output_type": "execute_result",
          "data": {
            "text/plain": [
              "14"
            ]
          },
          "metadata": {
            "tags": []
          },
          "execution_count": 12
        }
      ]
    },
    {
      "cell_type": "code",
      "metadata": {
        "id": "GIG3BCYGLQA8",
        "outputId": "9d3cd02c-5243-429b-a260-7a324a360b1c",
        "colab": {
          "base_uri": "https://localhost:8080/",
          "height": 35
        }
      },
      "source": [
        "german_seq_pad=tf.keras.preprocessing.sequence.pad_sequences(german_seq, value=0, padding='post', maxlen=14)\n",
        "german_seq_pad.shape"
      ],
      "execution_count": null,
      "outputs": [
        {
          "output_type": "execute_result",
          "data": {
            "text/plain": [
              "(20000, 14)"
            ]
          },
          "metadata": {
            "tags": []
          },
          "execution_count": 13
        }
      ]
    },
    {
      "cell_type": "markdown",
      "metadata": {
        "id": "foL7Ihs21iaP"
      },
      "source": [
        "## 2. Prepare the data"
      ]
    },
    {
      "cell_type": "markdown",
      "metadata": {
        "id": "-9rCEE4z1iaQ"
      },
      "source": [
        "#### Load the embedding layer\n",
        "As part of the dataset preproceessing for this project, you will use a pre-trained English word embedding module from TensorFlow Hub. The URL for the module is https://tfhub.dev/google/tf2-preview/nnlm-en-dim128-with-normalization/1.\n",
        "\n",
        "This embedding takes a batch of text tokens in a 1-D tensor of strings as input. It then embeds the separate tokens into a 128-dimensional space. \n",
        "\n",
        "The code to load and test the embedding layer is provided for you below.\n",
        "\n",
        "**NB:** this model can also be used as a sentence embedding module. The module will process each token by removing punctuation and splitting on spaces. It then averages the word embeddings over a sentence to give a single embedding vector. However, we will use it only as a word embedding module, and will pass each word in the input sentence as a separate token."
      ]
    },
    {
      "cell_type": "code",
      "metadata": {
        "id": "ywZgobCh1iaR"
      },
      "source": [
        "# Load embedding module from Tensorflow Hub\n",
        "\n",
        "embedding_layer = hub.KerasLayer(\"https://tfhub.dev/google/tf2-preview/nnlm-en-dim128/1\", \n",
        "                                 output_shape=[128], input_shape=[], dtype=tf.string)"
      ],
      "execution_count": null,
      "outputs": []
    },
    {
      "cell_type": "code",
      "metadata": {
        "id": "TiY8QEDp1iaV",
        "outputId": "fc4b70dc-9fd0-4232-a6c2-5b6ba24f52d8",
        "colab": {
          "base_uri": "https://localhost:8080/",
          "height": 35
        }
      },
      "source": [
        "# Test the layer\n",
        "\n",
        "embedding_layer(tf.constant([\"these\", \"aren't\", \"the\", \"droids\", \"you're\", \"looking\", \"for\"])).shape"
      ],
      "execution_count": null,
      "outputs": [
        {
          "output_type": "execute_result",
          "data": {
            "text/plain": [
              "TensorShape([7, 128])"
            ]
          },
          "metadata": {
            "tags": []
          },
          "execution_count": 15
        }
      ]
    },
    {
      "cell_type": "markdown",
      "metadata": {
        "id": "KjuzXc-z1iaY"
      },
      "source": [
        "You should now prepare the training and validation Datasets.\n",
        "\n",
        "* Create a random training and validation set split of the data, reserving e.g. 20% of the data for validation (NB: each English dataset example is a single sentence string, and each German dataset example is a sequence of padded integer tokens).\n",
        "* Load the training and validation sets into a tf.data.Dataset object, passing in a tuple of English and German data for both training and validation sets.\n",
        "* Create a function to map over the datasets that splits each English sentence at spaces. Apply this function to both Dataset objects using the map method. _Hint: look at the tf.strings.split function._\n",
        "* Create a function to map over the datasets that embeds each sequence of English words using the loaded embedding layer/model. Apply this function to both Dataset objects using the map method.\n",
        "* Create a function to filter out dataset examples where the English sentence is greater than or equal to than 13 (embedded) tokens in length. Apply this function to both Dataset objects using the filter method.\n",
        "* Create a function to map over the datasets that pads each English sequence of embeddings with some distinct padding value before the sequence, so that each sequence is length 13. Apply this function to both Dataset objects using the map method. _Hint: look at the tf.pad function. You can extract a Tensor shape using tf.shape; you might also find the tf.math.maximum function useful._\n",
        "* Batch both training and validation Datasets with a batch size of 16.\n",
        "* Print the `element_spec` property for the training and validation Datasets. \n",
        "* Using the Dataset `.take(1)` method, print the shape of the English data example from the training Dataset.\n",
        "* Using the Dataset `.take(1)` method, print the German data example Tensor from the validation Dataset."
      ]
    },
    {
      "cell_type": "code",
      "metadata": {
        "id": "NJch3HaYLQBF"
      },
      "source": [
        "from sklearn.model_selection import train_test_split"
      ],
      "execution_count": null,
      "outputs": []
    },
    {
      "cell_type": "code",
      "metadata": {
        "id": "Q-BUJOl_1iaZ"
      },
      "source": [
        "english_train, english_val, german_train, german_val=train_test_split(english_sents, german_seq_pad,test_size=0.2,shuffle=True)"
      ],
      "execution_count": null,
      "outputs": []
    },
    {
      "cell_type": "code",
      "metadata": {
        "id": "4w6rM8Bl1iad"
      },
      "source": [
        "train_data=tf.data.Dataset.from_tensor_slices((english_train,german_train))\n",
        "val_data=tf.data.Dataset.from_tensor_slices((english_val,german_val))"
      ],
      "execution_count": null,
      "outputs": []
    },
    {
      "cell_type": "code",
      "metadata": {
        "id": "o9DM8kK7LQBN",
        "outputId": "7afbc3d6-5ce2-447c-c773-c99a78c74d75",
        "colab": {
          "base_uri": "https://localhost:8080/",
          "height": 54
        }
      },
      "source": [
        "train_data=train_data.map(lambda x,y: (tf.strings.split(x),y))\n",
        "val_data=val_data.map(lambda x,y: (tf.strings.split(x),y))\n",
        "train_data.element_spec"
      ],
      "execution_count": null,
      "outputs": [
        {
          "output_type": "execute_result",
          "data": {
            "text/plain": [
              "(TensorSpec(shape=(None,), dtype=tf.string, name=None),\n",
              " TensorSpec(shape=(14,), dtype=tf.int32, name=None))"
            ]
          },
          "metadata": {
            "tags": []
          },
          "execution_count": 19
        }
      ]
    },
    {
      "cell_type": "code",
      "metadata": {
        "id": "izCsfRWxLQBP",
        "outputId": "64efb940-0793-406b-ecd0-c0ef91597e3f",
        "colab": {
          "base_uri": "https://localhost:8080/",
          "height": 54
        }
      },
      "source": [
        "train_data=train_data.map(lambda x,y: (embedding_layer(x),y))\n",
        "val_data=val_data.map(lambda x,y: (embedding_layer(x),y))\n",
        "train_data.element_spec"
      ],
      "execution_count": null,
      "outputs": [
        {
          "output_type": "execute_result",
          "data": {
            "text/plain": [
              "(TensorSpec(shape=(None, 128), dtype=tf.float32, name=None),\n",
              " TensorSpec(shape=(14,), dtype=tf.int32, name=None))"
            ]
          },
          "metadata": {
            "tags": []
          },
          "execution_count": 20
        }
      ]
    },
    {
      "cell_type": "code",
      "metadata": {
        "id": "Hy22geJnLQBR",
        "outputId": "71a48eb2-98a9-463b-e012-5018bf6733b9",
        "colab": {
          "base_uri": "https://localhost:8080/",
          "height": 54
        }
      },
      "source": [
        "train_data=train_data.filter(lambda x,y: tf.shape(x)[0]<=13)\n",
        "val_data=val_data.filter(lambda x,y: tf.shape(x)[0]<=13)\n",
        "train_data.element_spec"
      ],
      "execution_count": null,
      "outputs": [
        {
          "output_type": "execute_result",
          "data": {
            "text/plain": [
              "(TensorSpec(shape=(None, 128), dtype=tf.float32, name=None),\n",
              " TensorSpec(shape=(14,), dtype=tf.int32, name=None))"
            ]
          },
          "metadata": {
            "tags": []
          },
          "execution_count": 21
        }
      ]
    },
    {
      "cell_type": "code",
      "metadata": {
        "id": "dup6tMC4LQBU",
        "outputId": "ae7c09ef-6816-49cb-99dd-c8df1bd41bd1",
        "colab": {
          "base_uri": "https://localhost:8080/",
          "height": 72
        }
      },
      "source": [
        "for i in train_data.take(3):\n",
        "    print(i[0].shape)"
      ],
      "execution_count": null,
      "outputs": [
        {
          "output_type": "stream",
          "text": [
            "(4, 128)\n",
            "(5, 128)\n",
            "(4, 128)\n"
          ],
          "name": "stdout"
        }
      ]
    },
    {
      "cell_type": "code",
      "metadata": {
        "id": "K366TjYPLQBX",
        "outputId": "34b30c08-4606-412b-fd27-331c1c065c1f",
        "colab": {
          "base_uri": "https://localhost:8080/",
          "height": 54
        }
      },
      "source": [
        "train_data=train_data.map(lambda x,y: (tf.pad(x, paddings=[[13-tf.shape(x)[0], 0],[0, 0]],constant_values=0.0), y))\n",
        "val_data=val_data.map(lambda x,y: (tf.pad(x, paddings=[[13-tf.shape(x)[0], 0],[0, 0]],constant_values=0.0), y))\n",
        "train_data.element_spec"
      ],
      "execution_count": null,
      "outputs": [
        {
          "output_type": "execute_result",
          "data": {
            "text/plain": [
              "(TensorSpec(shape=(None, 128), dtype=tf.float32, name=None),\n",
              " TensorSpec(shape=(14,), dtype=tf.int32, name=None))"
            ]
          },
          "metadata": {
            "tags": []
          },
          "execution_count": 23
        }
      ]
    },
    {
      "cell_type": "code",
      "metadata": {
        "id": "5mzRHKkFLQBZ",
        "outputId": "b7bbdbec-1d25-42cc-96d6-da8fd2200e2d",
        "colab": {
          "base_uri": "https://localhost:8080/",
          "height": 72
        }
      },
      "source": [
        "for i in train_data.take(3):\n",
        "    print(i[0].shape)"
      ],
      "execution_count": null,
      "outputs": [
        {
          "output_type": "stream",
          "text": [
            "(13, 128)\n",
            "(13, 128)\n",
            "(13, 128)\n"
          ],
          "name": "stdout"
        }
      ]
    },
    {
      "cell_type": "code",
      "metadata": {
        "id": "Kc4N1pP4LQBb",
        "outputId": "467ddd87-b74d-4e72-fb31-6438ae88fc75",
        "colab": {
          "base_uri": "https://localhost:8080/",
          "height": 35
        }
      },
      "source": [
        "train_data=train_data.batch(16,True)\n",
        "val_data=val_data.batch(16,True)\n",
        "print(train_data.element_spec)"
      ],
      "execution_count": null,
      "outputs": [
        {
          "output_type": "stream",
          "text": [
            "(TensorSpec(shape=(16, None, 128), dtype=tf.float32, name=None), TensorSpec(shape=(16, 14), dtype=tf.int32, name=None))\n"
          ],
          "name": "stdout"
        }
      ]
    },
    {
      "cell_type": "code",
      "metadata": {
        "id": "EidihR5OLQBe",
        "outputId": "868f221d-3d90-4761-c212-894834e9d142",
        "colab": {
          "base_uri": "https://localhost:8080/",
          "height": 345
        }
      },
      "source": [
        "for i in train_data.take(1):\n",
        "    print(\"The shape of the first English Sequence batch is\",i[0].shape,\".\")\n",
        "for i in val_data.take(1):\n",
        "    print(\"The first three German sample sequences are\")\n",
        "    print(i[1].numpy(),'.')\n",
        "    "
      ],
      "execution_count": null,
      "outputs": [
        {
          "output_type": "stream",
          "text": [
            "The shape of the first English Sequence batch is (16, 13, 128) .\n",
            "The first three German sample sequences are\n",
            "[[   1   64   11    5   86    9    2    0    0    0    0    0    0    0]\n",
            " [   1   13   32  375   20  528    3    2    0    0    0    0    0    0]\n",
            " [   1    4 1048   52   40  963  214    3    2    0    0    0    0    0]\n",
            " [   1   67  206    8    3    2    0    0    0    0    0    0    0    0]\n",
            " [   1    4   15   47  363    3    2    0    0    0    0    0    0    0]\n",
            " [   1  108 2884   34    3    2    0    0    0    0    0    0    0    0]\n",
            " [   1    4  122  362    3    2    0    0    0    0    0    0    0    0]\n",
            " [   1   11   63    6   46  225    3    2    0    0    0    0    0    0]\n",
            " [   1 1046   10   46  386 1830    3    2    0    0    0    0    0    0]\n",
            " [   1   16    5    8  534    7    2    0    0    0    0    0    0    0]\n",
            " [   1    4  511   36   20  196    3    2    0    0    0    0    0    0]\n",
            " [   1    4 3031   25   17 1064    3    2    0    0    0    0    0    0]\n",
            " [   1   13   32   47  761    3    2    0    0    0    0    0    0    0]\n",
            " [   1  878   28    9    2    0    0    0    0    0    0    0    0    0]\n",
            " [   1    6    5   34  138    7    2    0    0    0    0    0    0    0]\n",
            " [   1    4  683   20    3    2    0    0    0    0    0    0    0    0]] .\n"
          ],
          "name": "stdout"
        }
      ]
    },
    {
      "cell_type": "markdown",
      "metadata": {
        "id": "isIYhjq01iay"
      },
      "source": [
        "## 3. Create the custom layer\n",
        "You will now create a custom layer to add the learned end token embedding to the encoder model:"
      ]
    },
    {
      "cell_type": "code",
      "metadata": {
        "id": "e22f1Xyh6xvE",
        "outputId": "7636157d-4419-4e6c-ce8b-99b28f95a0fc",
        "colab": {
          "base_uri": "https://localhost:8080/",
          "height": 423
        }
      },
      "source": [
        "# Run this cell to download and view a schematic diagram for the encoder model\n",
        "\n",
        "!wget -q -O neural_translation_model.png --no-check-certificate \"https://docs.google.com/uc?export=download&id=1JrtNOzUJDaOWrK4C-xv-4wUuZaI12sQI\"\n",
        "Image(\"neural_translation_model.png\")"
      ],
      "execution_count": null,
      "outputs": [
        {
          "output_type": "execute_result",
          "data": {
            "image/png": "[encoded data removed]",
            "text/plain": [
              "<IPython.core.display.Image object>"
            ]
          },
          "metadata": {
            "tags": []
          },
          "execution_count": 27
        }
      ]
    },
    {
      "cell_type": "markdown",
      "metadata": {
        "id": "M6gLIHG81iaz"
      },
      "source": [
        "You should now build the custom layer.\n",
        "* Using layer subclassing, create a custom layer that takes a batch of English data examples from one of the Datasets, and adds a learned embedded ‘end’ token to the end of each sequence. \n",
        "* This layer should create a TensorFlow Variable (that will be learned during training) that is 128-dimensional (the size of the embedding space). _Hint: you may find it helpful in the call method to use the tf.tile function to replicate the end token embedding across every element in the batch._\n",
        "* Using the Dataset `.take(1)` method, extract a batch of English data examples from the training Dataset and print the shape. Test the custom layer by calling the layer on the English data batch Tensor and print the resulting Tensor shape (the layer should increase the sequence length by one)."
      ]
    },
    {
      "cell_type": "code",
      "metadata": {
        "id": "yg9hjZz11ia0"
      },
      "source": [
        "class MyLayer(tf.keras.layers.Layer):\n",
        "    def __init__(self):\n",
        "        super(MyLayer,self).__init__()\n",
        "        self.b=self.add_weight(shape=(1,128),initializer='ones',dtype=tf.float32)\n",
        "    def call(self,inputs):\n",
        "        if inputs.shape[0] is None:\n",
        "            dim=1\n",
        "        else:\n",
        "            dim=inputs.shape[0]\n",
        "        temp=tf.tile(self.b,[dim,1])\n",
        "        temp=tf.reshape(temp,(dim,1,128))\n",
        "        return tf.concat((inputs, temp),axis=1)"
      ],
      "execution_count": null,
      "outputs": []
    },
    {
      "cell_type": "code",
      "metadata": {
        "id": "-2Q5OQLfLQBm",
        "outputId": "4f517534-940f-4e75-ae46-3ed69d3645e3",
        "colab": {
          "base_uri": "https://localhost:8080/",
          "height": 35
        }
      },
      "source": [
        "mylayer=MyLayer()\n",
        "for eng,ger in train_data.take(1):\n",
        "    print(eng.shape,mylayer(eng).shape)"
      ],
      "execution_count": null,
      "outputs": [
        {
          "output_type": "stream",
          "text": [
            "(16, 13, 128) (16, 14, 128)\n"
          ],
          "name": "stdout"
        }
      ]
    },
    {
      "cell_type": "markdown",
      "metadata": {
        "id": "OAd3i4_y1ia-"
      },
      "source": [
        "## 4. Build the encoder network\n",
        "The encoder network follows the schematic diagram above. You should now build the RNN encoder model.\n",
        "* Using the functional API, build the encoder network according to the following spec:\n",
        "    * The model will take a batch of sequences of embedded English words as input, as given by the Dataset objects.\n",
        "    * The next layer in the encoder will be the custom layer you created previously, to add a learned end token embedding to the end of the English sequence.\n",
        "    * This is followed by a Masking layer, with the `mask_value` set to the distinct padding value you used when you padded the English sequences with the Dataset preprocessing above.\n",
        "    * The final layer is an LSTM layer with 512 units, which also returns the hidden and cell states.\n",
        "    * The encoder is a multi-output model. There should be two output Tensors of this model: the hidden state and cell states of the LSTM layer. The output of the LSTM layer is unused.\n",
        "* Using the Dataset `.take(1)` method, extract a batch of English data examples from the training Dataset and test the encoder model by calling it on the English data Tensor, and print the shape of the resulting Tensor outputs.\n",
        "* Print the model summary for the encoder network."
      ]
    },
    {
      "cell_type": "code",
      "metadata": {
        "id": "6R2LqbfV1ia_"
      },
      "source": [
        "def get_input():\n",
        "    mylayer=MyLayer()\n",
        "    inputs = tf.keras.Input(shape=(13,128))\n",
        "    h = mylayer(inputs)\n",
        "    h = tf.keras.layers.Masking(mask_value=0.0)(h)\n",
        "    output, hidden, cell=tf.keras.layers.LSTM(512,return_state=True,kernel_regularizer=tf.keras.regularizers.L2(1))(h)\n",
        "    return tf.keras.models.Model(inputs,[hidden,cell]) \n",
        "encoder=get_input()"
      ],
      "execution_count": null,
      "outputs": []
    },
    {
      "cell_type": "code",
      "metadata": {
        "id": "tDHjqu_gLQBq",
        "outputId": "454245ec-aa42-4f1e-dd71-77e361f3c5ff",
        "colab": {
          "base_uri": "https://localhost:8080/",
          "height": 35
        }
      },
      "source": [
        "for eng,ger in train_data.take(1):\n",
        "    print(encoder(eng)[0].shape,encoder(eng)[1].shape)"
      ],
      "execution_count": null,
      "outputs": [
        {
          "output_type": "stream",
          "text": [
            "(16, 512) (16, 512)\n"
          ],
          "name": "stdout"
        }
      ]
    },
    {
      "cell_type": "code",
      "metadata": {
        "id": "e5XW6NxL1ibC",
        "outputId": "44ce7dc9-87ef-45ea-8dfb-51cb0a99f6c2",
        "colab": {
          "base_uri": "https://localhost:8080/",
          "height": 308
        }
      },
      "source": [
        "encoder.summary()"
      ],
      "execution_count": null,
      "outputs": [
        {
          "output_type": "stream",
          "text": [
            "Model: \"functional_11\"\n",
            "_________________________________________________________________\n",
            "Layer (type)                 Output Shape              Param #   \n",
            "=================================================================\n",
            "input_6 (InputLayer)         [(None, 13, 128)]         0         \n",
            "_________________________________________________________________\n",
            "my_layer_6 (MyLayer)         (1, 14, 128)              128       \n",
            "_________________________________________________________________\n",
            "masking_5 (Masking)          (1, 14, 128)              0         \n",
            "_________________________________________________________________\n",
            "lstm_9 (LSTM)                [(1, 512), (1, 512), (1,  1312768   \n",
            "=================================================================\n",
            "Total params: 1,312,896\n",
            "Trainable params: 1,312,896\n",
            "Non-trainable params: 0\n",
            "_________________________________________________________________\n"
          ],
          "name": "stdout"
        }
      ]
    },
    {
      "cell_type": "markdown",
      "metadata": {
        "id": "KvkzpCeZ1ibR"
      },
      "source": [
        "## 5. Build the decoder network\n",
        "The decoder network follows the schematic diagram below. "
      ]
    },
    {
      "cell_type": "code",
      "metadata": {
        "id": "yOjEb7cH7Y4S",
        "outputId": "daf558f0-daba-4f0a-95b7-159aa35f7cac",
        "colab": {
          "base_uri": "https://localhost:8080/",
          "height": 501
        }
      },
      "source": [
        "# Run this cell to download and view a schematic diagram for the decoder model\n",
        "\n",
        "!wget -q -O neural_translation_model.png --no-check-certificate \"https://docs.google.com/uc?export=download&id=1DTeaXD8tA8RjkpVrB2mr9csSBOY4LQiW\"\n",
        "Image(\"neural_translation_model.png\")"
      ],
      "execution_count": null,
      "outputs": [
        {
          "output_type": "execute_result",
          "data": {
            "image/png": "[encoded data removed]",
            "text/plain": [
              "<IPython.core.display.Image object>"
            ]
          },
          "metadata": {
            "tags": []
          },
          "execution_count": 94
        }
      ]
    },
    {
      "cell_type": "markdown",
      "metadata": {
        "id": "VPBK8WGL1ibS"
      },
      "source": [
        "You should now build the RNN decoder model.\n",
        "* Using Model subclassing, build the decoder network according to the following spec:\n",
        "    * The initializer should create the following layers:\n",
        "        * An Embedding layer with vocabulary size set to the number of unique German tokens, embedding dimension 128, and set to mask zero values in the input.\n",
        "        * An LSTM layer with 512 units, that returns its hidden and cell states, and also returns sequences.\n",
        "        * A Dense layer with number of units equal to the number of unique German tokens, and no activation function.\n",
        "    * The call method should include the usual `inputs` argument, as well as the additional keyword arguments `hidden_state` and `cell_state`. The default value for these keyword arguments should be `None`.\n",
        "    * The call method should pass the inputs through the Embedding layer, and then through the LSTM layer. If the `hidden_state` and `cell_state` arguments are provided, these should be used for the initial state of the LSTM layer. _Hint: use the_ `initial_state` _keyword argument when calling the LSTM layer on its input._\n",
        "    * The call method should pass the LSTM output sequence through the Dense layer, and return the resulting Tensor, along with the hidden and cell states of the LSTM layer.\n",
        "* Using the Dataset `.take(1)` method, extract a batch of English and German data examples from the training Dataset. Test the decoder model by first calling the encoder model on the English data Tensor to get the hidden and cell states, and then call the decoder model on the German data Tensor and hidden and cell states, and print the shape of the resulting decoder Tensor outputs.\n",
        "* Print the model summary for the decoder network."
      ]
    },
    {
      "cell_type": "code",
      "metadata": {
        "id": "l50qhnXD1ibT"
      },
      "source": [
        "class Decoder(tf.keras.models.Model):\n",
        "    def __init__(self):\n",
        "        super(Decoder, self).__init__() #super(MyModel,self)<- first argument define the class, second is one of its instance.\n",
        "        self.embed=tf.keras.layers.Embedding(input_dim=len(tokenizer.word_index)+1, output_dim=128, mask_zero=True)\n",
        "        self.lstm=tf.keras.layers.LSTM(512, return_state=True, return_sequences=True, kernel_regularizer=tf.keras.regularizers.L2(1))\n",
        "        self.dense=tf.keras.layers.Dense(len(tokenizer.word_index)+1,activation='softmax',kernel_regularizer=tf.keras.regularizers.L2(1))    \n",
        "        self.drop=tf.keras.layers.Dropout(0.3)\n",
        "    def call(self, inputs=None, initial_state=None, training=True):\n",
        "        h=self.embed(inputs)\n",
        "        h, hidden, cell=self.lstm(h, initial_state=initial_state)\n",
        "        h=self.drop(h)\n",
        "        output=self.dense(h)\n",
        "        return [output, hidden, cell]"
      ],
      "execution_count": null,
      "outputs": []
    },
    {
      "cell_type": "code",
      "metadata": {
        "id": "g7H_RFovLQB0"
      },
      "source": [
        "decoder=Decoder()"
      ],
      "execution_count": null,
      "outputs": []
    },
    {
      "cell_type": "code",
      "metadata": {
        "id": "vG5CRIXV1ibi",
        "outputId": "29a13c5d-a8b1-44ae-9b2a-e26a358dc60e",
        "colab": {
          "base_uri": "https://localhost:8080/",
          "height": 35
        }
      },
      "source": [
        "for eng,ger in train_data.take(1):\n",
        "    hidden, cell=encoder(eng)\n",
        "    print(decoder(ger,[hidden,cell])[0].shape,decoder(ger,[hidden,cell])[1].shape,decoder(ger,[hidden,cell])[2].shape)"
      ],
      "execution_count": null,
      "outputs": [
        {
          "output_type": "stream",
          "text": [
            "(16, 14, 5744) (16, 512) (16, 512)\n"
          ],
          "name": "stdout"
        }
      ]
    },
    {
      "cell_type": "code",
      "metadata": {
        "id": "cSEPbq-QLQB6",
        "outputId": "acf9c5ab-452a-4e23-a1aa-5fde36163b8c",
        "colab": {
          "base_uri": "https://localhost:8080/",
          "height": 308
        }
      },
      "source": [
        "decoder.summary()"
      ],
      "execution_count": null,
      "outputs": [
        {
          "output_type": "stream",
          "text": [
            "Model: \"decoder_4\"\n",
            "_________________________________________________________________\n",
            "Layer (type)                 Output Shape              Param #   \n",
            "=================================================================\n",
            "embedding_4 (Embedding)      multiple                  735232    \n",
            "_________________________________________________________________\n",
            "lstm_10 (LSTM)               multiple                  1312768   \n",
            "_________________________________________________________________\n",
            "dense_4 (Dense)              multiple                  2946672   \n",
            "_________________________________________________________________\n",
            "dropout_4 (Dropout)          multiple                  0         \n",
            "=================================================================\n",
            "Total params: 4,994,672\n",
            "Trainable params: 4,994,672\n",
            "Non-trainable params: 0\n",
            "_________________________________________________________________\n"
          ],
          "name": "stdout"
        }
      ]
    },
    {
      "cell_type": "markdown",
      "metadata": {
        "id": "pST9XGJ81ibo"
      },
      "source": [
        "## 6. Make a custom training loop\n",
        "You should now write a custom training loop to train your custom neural translation model.\n",
        "* Define a function that takes a Tensor batch of German data (as extracted from the training Dataset), and returns a tuple containing German inputs and outputs for the decoder model (refer to schematic diagram above).\n",
        "* Define a function that computes the forward and backward pass for your translation model. This function should take an English input, German input and German output as arguments, and should do the following:\n",
        "    * Pass the English input into the encoder, to get the hidden and cell states of the encoder LSTM.\n",
        "    * These hidden and cell states are then passed into the decoder, along with the German inputs, which returns a sequence of outputs (the hidden and cell state outputs of the decoder LSTM are unused in this function).\n",
        "    * The loss should then be computed between the decoder outputs and the German output function argument.\n",
        "    * The function returns the loss and gradients with respect to the encoder and decoder’s trainable variables.\n",
        "    * Decorate the function with `@tf.function`\n",
        "* Define and run a custom training loop for a number of epochs (for you to choose) that does the following:\n",
        "    * Iterates through the training dataset, and creates decoder inputs and outputs from the German sequences.\n",
        "    * Updates the parameters of the translation model using the gradients of the function above and an optimizer object.\n",
        "    * Every epoch, compute the validation loss on a number of batches from the validation and save the epoch training and validation losses.\n",
        "* Plot the learning curves for loss vs epoch for both training and validation sets.\n",
        "\n",
        "_Hint: This model is computationally demanding to train. The quality of the model or length of training is not a factor in the grading rubric. However, to obtain a better model we recommend using the GPU accelerator hardware on Colab._"
      ]
    },
    {
      "cell_type": "code",
      "metadata": {
        "id": "3iuiHzWCLQCA"
      },
      "source": [
        "encoder=get_input()\n",
        "decoder=Decoder()"
      ],
      "execution_count": null,
      "outputs": []
    },
    {
      "cell_type": "code",
      "metadata": {
        "id": "7hJHbWqs1ibr"
      },
      "source": [
        "def german_seperate(data):\n",
        "    outputs=data[:,1:]\n",
        "    mask=tf.not_equal(data,2)        #since the eof code is 2\n",
        "    inputs=tf.boolean_mask(data,mask,axis=0)\n",
        "    inputs=tf.reshape(inputs,(data.shape[0],-1))\n",
        "    return inputs,outputs\n",
        "@tf.function\n",
        "def forward_backward(eng, ger_in, ger_out):\n",
        "    with tf.GradientTape() as tape: \n",
        "        hidden,cell=encoder(eng)\n",
        "        output, _, _=decoder(ger_in, [hidden,cell])\n",
        "        loss = tf.keras.losses.SparseCategoricalCrossentropy()(ger_out, output)\n",
        "        grads = tape.gradient(loss, encoder.trainable_variables + decoder.trainable_variables)\n",
        "    return loss, grads\n"
      ],
      "execution_count": null,
      "outputs": []
    },
    {
      "cell_type": "code",
      "metadata": {
        "id": "Jvu4J4-u1ibu",
        "outputId": "bc09ad76-cc9a-44c4-f25a-f102025b4c89",
        "colab": {
          "base_uri": "https://localhost:8080/",
          "height": 163
        }
      },
      "source": [
        "num_epochs=15\n",
        "optimizer=optimizer = tf.keras.optimizers.Adam()\n",
        "loss=[]\n",
        "val_loss=[]\n",
        "i=0\n",
        "for epoch in range(num_epochs):\n",
        "    batch_loss=[]\n",
        "    batch_loss_val=[]\n",
        "    for eng, ger in train_data:\n",
        "        ger_in, ger_out=german_seperate(ger)\n",
        "        loss_train, grads=forward_backward(eng, ger_in, ger_out)\n",
        "        optimizer.apply_gradients(zip(grads,encoder.trainable_variables+decoder.trainable_variables))\n",
        "        batch_loss.append(loss_train)\n",
        "    loss.append(tf.reduce_mean(batch_loss).numpy())\n",
        "    for eng, ger in val_data:\n",
        "        ger_in, ger_out=german_seperate(ger)\n",
        "        loss_train, grads=forward_backward(eng, ger_in, ger_out)\n",
        "        batch_loss_val.append(loss_train)\n",
        "    val_loss.append(tf.reduce_mean(batch_loss_val).numpy())\n",
        "    if i%2==0:\n",
        "      print('On',i,'th epoch, training loss=',loss[i],'validation loss=',val_loss[i],'.')\n",
        "    i+=1\n"
      ],
      "execution_count": null,
      "outputs": [
        {
          "output_type": "stream",
          "text": [
            "On 0 th epoch, training loss= 5.9877462 validation loss= 5.3303213 .\n",
            "On 2 th epoch, training loss= 3.8448143 validation loss= 3.5435004 .\n",
            "On 4 th epoch, training loss= 2.1097999 validation loss= 2.0809116 .\n",
            "On 6 th epoch, training loss= 0.967884 validation loss= 1.3046591 .\n",
            "On 8 th epoch, training loss= 0.5396985 validation loss= 1.0961274 .\n",
            "On 10 th epoch, training loss= 0.36691847 validation loss= 1.0397509 .\n",
            "On 12 th epoch, training loss= 0.2747161 validation loss= 1.0340257 .\n",
            "On 14 th epoch, training loss= 0.21424043 validation loss= 1.0371051 .\n"
          ],
          "name": "stdout"
        }
      ]
    },
    {
      "cell_type": "code",
      "metadata": {
        "id": "dpacst2F1ib7",
        "outputId": "c02df9b1-086c-4956-990c-6b85d4d3e5fc",
        "colab": {
          "base_uri": "https://localhost:8080/",
          "height": 279
        }
      },
      "source": [
        "import matplotlib.pyplot as plt\n",
        "plt.plot(loss,label='loss')\n",
        "plt.plot(val_loss,label='val_loss')\n",
        "plt.xlabel('epochs')\n",
        "plt.ylabel('loss')\n",
        "plt.legend()\n",
        "plt.show()"
      ],
      "execution_count": null,
      "outputs": [
        {
          "output_type": "display_data",
          "data": {
            "image/png": "[encoded data removed]",
            "text/plain": [
              "<Figure size 432x288 with 1 Axes>"
            ]
          },
          "metadata": {
            "tags": [],
            "needs_background": "light"
          }
        }
      ]
    },
    {
      "cell_type": "code",
      "metadata": {
        "id": "GLtSFKU99t8r"
      },
      "source": [
        "path='/content/gdrive/My Drive/colab/'\n",
        "encoder.save(path+'encoder.h5')\n",
        "decoder.save_weights(path)"
      ],
      "execution_count": null,
      "outputs": []
    },
    {
      "cell_type": "code",
      "metadata": {
        "id": "PUWNY4n4MdcI",
        "outputId": "48189c87-6b2e-45ff-a4fb-3d0f0fd293fb",
        "colab": {
          "base_uri": "https://localhost:8080/",
          "height": 377
        }
      },
      "source": [
        "path='/content/gdrive/My Drive/colab/'\n",
        "encoder=tf.keras.models.load_model(path+'encoder.h5')\n",
        "decoder.load_weights(path)"
      ],
      "execution_count": null,
      "outputs": [
        {
          "output_type": "error",
          "ename": "ValueError",
          "evalue": "ignored",
          "traceback": [
            "\u001b[0;31m---------------------------------------------------------------------------\u001b[0m",
            "\u001b[0;31mValueError\u001b[0m                                Traceback (most recent call last)",
            "\u001b[0;32m<ipython-input-39-a20e74bf646c>\u001b[0m in \u001b[0;36m<module>\u001b[0;34m()\u001b[0m\n\u001b[1;32m      1\u001b[0m \u001b[0mpath\u001b[0m\u001b[0;34m=\u001b[0m\u001b[0;34m'/content/gdrive/My Drive/colab/'\u001b[0m\u001b[0;34m\u001b[0m\u001b[0;34m\u001b[0m\u001b[0m\n\u001b[0;32m----> 2\u001b[0;31m \u001b[0mencoder\u001b[0m\u001b[0;34m=\u001b[0m\u001b[0mtf\u001b[0m\u001b[0;34m.\u001b[0m\u001b[0mkeras\u001b[0m\u001b[0;34m.\u001b[0m\u001b[0mmodels\u001b[0m\u001b[0;34m.\u001b[0m\u001b[0mload_model\u001b[0m\u001b[0;34m(\u001b[0m\u001b[0mpath\u001b[0m\u001b[0;34m+\u001b[0m\u001b[0;34m'encoder.h5'\u001b[0m\u001b[0;34m)\u001b[0m\u001b[0;34m\u001b[0m\u001b[0;34m\u001b[0m\u001b[0m\n\u001b[0m\u001b[1;32m      3\u001b[0m \u001b[0mdecoder\u001b[0m\u001b[0;34m.\u001b[0m\u001b[0mload_weights\u001b[0m\u001b[0;34m(\u001b[0m\u001b[0mpath\u001b[0m\u001b[0;34m)\u001b[0m\u001b[0;34m\u001b[0m\u001b[0;34m\u001b[0m\u001b[0m\n",
            "\u001b[0;32m/usr/local/lib/python3.6/dist-packages/tensorflow/python/keras/saving/save.py\u001b[0m in \u001b[0;36mload_model\u001b[0;34m(filepath, custom_objects, compile, options)\u001b[0m\n\u001b[1;32m    180\u001b[0m     if (h5py is not None and (\n\u001b[1;32m    181\u001b[0m         isinstance(filepath, h5py.File) or h5py.is_hdf5(filepath))):\n\u001b[0;32m--> 182\u001b[0;31m       \u001b[0;32mreturn\u001b[0m \u001b[0mhdf5_format\u001b[0m\u001b[0;34m.\u001b[0m\u001b[0mload_model_from_hdf5\u001b[0m\u001b[0;34m(\u001b[0m\u001b[0mfilepath\u001b[0m\u001b[0;34m,\u001b[0m \u001b[0mcustom_objects\u001b[0m\u001b[0;34m,\u001b[0m \u001b[0mcompile\u001b[0m\u001b[0;34m)\u001b[0m\u001b[0;34m\u001b[0m\u001b[0;34m\u001b[0m\u001b[0m\n\u001b[0m\u001b[1;32m    183\u001b[0m \u001b[0;34m\u001b[0m\u001b[0m\n\u001b[1;32m    184\u001b[0m     \u001b[0mfilepath\u001b[0m \u001b[0;34m=\u001b[0m \u001b[0mpath_to_string\u001b[0m\u001b[0;34m(\u001b[0m\u001b[0mfilepath\u001b[0m\u001b[0;34m)\u001b[0m\u001b[0;34m\u001b[0m\u001b[0;34m\u001b[0m\u001b[0m\n",
            "\u001b[0;32m/usr/local/lib/python3.6/dist-packages/tensorflow/python/keras/saving/hdf5_format.py\u001b[0m in \u001b[0;36mload_model_from_hdf5\u001b[0;34m(filepath, custom_objects, compile)\u001b[0m\n\u001b[1;32m    176\u001b[0m     \u001b[0mmodel_config\u001b[0m \u001b[0;34m=\u001b[0m \u001b[0mjson\u001b[0m\u001b[0;34m.\u001b[0m\u001b[0mloads\u001b[0m\u001b[0;34m(\u001b[0m\u001b[0mmodel_config\u001b[0m\u001b[0;34m.\u001b[0m\u001b[0mdecode\u001b[0m\u001b[0;34m(\u001b[0m\u001b[0;34m'utf-8'\u001b[0m\u001b[0;34m)\u001b[0m\u001b[0;34m)\u001b[0m\u001b[0;34m\u001b[0m\u001b[0;34m\u001b[0m\u001b[0m\n\u001b[1;32m    177\u001b[0m     model = model_config_lib.model_from_config(model_config,\n\u001b[0;32m--> 178\u001b[0;31m                                                custom_objects=custom_objects)\n\u001b[0m\u001b[1;32m    179\u001b[0m \u001b[0;34m\u001b[0m\u001b[0m\n\u001b[1;32m    180\u001b[0m     \u001b[0;31m# set weights\u001b[0m\u001b[0;34m\u001b[0m\u001b[0;34m\u001b[0m\u001b[0;34m\u001b[0m\u001b[0m\n",
            "\u001b[0;32m/usr/local/lib/python3.6/dist-packages/tensorflow/python/keras/saving/model_config.py\u001b[0m in \u001b[0;36mmodel_from_config\u001b[0;34m(config, custom_objects)\u001b[0m\n\u001b[1;32m     53\u001b[0m                     '`Sequential.from_config(config)`?')\n\u001b[1;32m     54\u001b[0m   \u001b[0;32mfrom\u001b[0m \u001b[0mtensorflow\u001b[0m\u001b[0;34m.\u001b[0m\u001b[0mpython\u001b[0m\u001b[0;34m.\u001b[0m\u001b[0mkeras\u001b[0m\u001b[0;34m.\u001b[0m\u001b[0mlayers\u001b[0m \u001b[0;32mimport\u001b[0m \u001b[0mdeserialize\u001b[0m  \u001b[0;31m# pylint: disable=g-import-not-at-top\u001b[0m\u001b[0;34m\u001b[0m\u001b[0;34m\u001b[0m\u001b[0m\n\u001b[0;32m---> 55\u001b[0;31m   \u001b[0;32mreturn\u001b[0m \u001b[0mdeserialize\u001b[0m\u001b[0;34m(\u001b[0m\u001b[0mconfig\u001b[0m\u001b[0;34m,\u001b[0m \u001b[0mcustom_objects\u001b[0m\u001b[0;34m=\u001b[0m\u001b[0mcustom_objects\u001b[0m\u001b[0;34m)\u001b[0m\u001b[0;34m\u001b[0m\u001b[0;34m\u001b[0m\u001b[0m\n\u001b[0m\u001b[1;32m     56\u001b[0m \u001b[0;34m\u001b[0m\u001b[0m\n\u001b[1;32m     57\u001b[0m \u001b[0;34m\u001b[0m\u001b[0m\n",
            "\u001b[0;32m/usr/local/lib/python3.6/dist-packages/tensorflow/python/keras/layers/serialization.py\u001b[0m in \u001b[0;36mdeserialize\u001b[0;34m(config, custom_objects)\u001b[0m\n\u001b[1;32m    173\u001b[0m       \u001b[0mmodule_objects\u001b[0m\u001b[0;34m=\u001b[0m\u001b[0mLOCAL\u001b[0m\u001b[0;34m.\u001b[0m\u001b[0mALL_OBJECTS\u001b[0m\u001b[0;34m,\u001b[0m\u001b[0;34m\u001b[0m\u001b[0;34m\u001b[0m\u001b[0m\n\u001b[1;32m    174\u001b[0m       \u001b[0mcustom_objects\u001b[0m\u001b[0;34m=\u001b[0m\u001b[0mcustom_objects\u001b[0m\u001b[0;34m,\u001b[0m\u001b[0;34m\u001b[0m\u001b[0;34m\u001b[0m\u001b[0m\n\u001b[0;32m--> 175\u001b[0;31m       printable_module_name='layer')\n\u001b[0m",
            "\u001b[0;32m/usr/local/lib/python3.6/dist-packages/tensorflow/python/keras/utils/generic_utils.py\u001b[0m in \u001b[0;36mdeserialize_keras_object\u001b[0;34m(identifier, module_objects, custom_objects, printable_module_name)\u001b[0m\n\u001b[1;32m    356\u001b[0m             custom_objects=dict(\n\u001b[1;32m    357\u001b[0m                 \u001b[0mlist\u001b[0m\u001b[0;34m(\u001b[0m\u001b[0m_GLOBAL_CUSTOM_OBJECTS\u001b[0m\u001b[0;34m.\u001b[0m\u001b[0mitems\u001b[0m\u001b[0;34m(\u001b[0m\u001b[0;34m)\u001b[0m\u001b[0;34m)\u001b[0m \u001b[0;34m+\u001b[0m\u001b[0;34m\u001b[0m\u001b[0;34m\u001b[0m\u001b[0m\n\u001b[0;32m--> 358\u001b[0;31m                 list(custom_objects.items())))\n\u001b[0m\u001b[1;32m    359\u001b[0m       \u001b[0;32mwith\u001b[0m \u001b[0mCustomObjectScope\u001b[0m\u001b[0;34m(\u001b[0m\u001b[0mcustom_objects\u001b[0m\u001b[0;34m)\u001b[0m\u001b[0;34m:\u001b[0m\u001b[0;34m\u001b[0m\u001b[0;34m\u001b[0m\u001b[0m\n\u001b[1;32m    360\u001b[0m         \u001b[0;32mreturn\u001b[0m \u001b[0mcls\u001b[0m\u001b[0;34m.\u001b[0m\u001b[0mfrom_config\u001b[0m\u001b[0;34m(\u001b[0m\u001b[0mcls_config\u001b[0m\u001b[0;34m)\u001b[0m\u001b[0;34m\u001b[0m\u001b[0;34m\u001b[0m\u001b[0m\n",
            "\u001b[0;32m/usr/local/lib/python3.6/dist-packages/tensorflow/python/keras/engine/functional.py\u001b[0m in \u001b[0;36mfrom_config\u001b[0;34m(cls, config, custom_objects)\u001b[0m\n\u001b[1;32m    615\u001b[0m     \"\"\"\n\u001b[1;32m    616\u001b[0m     input_tensors, output_tensors, created_layers = reconstruct_from_config(\n\u001b[0;32m--> 617\u001b[0;31m         config, custom_objects)\n\u001b[0m\u001b[1;32m    618\u001b[0m     model = cls(inputs=input_tensors, outputs=output_tensors,\n\u001b[1;32m    619\u001b[0m                 name=config.get('name'))\n",
            "\u001b[0;32m/usr/local/lib/python3.6/dist-packages/tensorflow/python/keras/engine/functional.py\u001b[0m in \u001b[0;36mreconstruct_from_config\u001b[0;34m(config, custom_objects, created_layers)\u001b[0m\n\u001b[1;32m   1202\u001b[0m   \u001b[0;31m# First, we create all layers and enqueue nodes to be processed\u001b[0m\u001b[0;34m\u001b[0m\u001b[0;34m\u001b[0m\u001b[0;34m\u001b[0m\u001b[0m\n\u001b[1;32m   1203\u001b[0m   \u001b[0;32mfor\u001b[0m \u001b[0mlayer_data\u001b[0m \u001b[0;32min\u001b[0m \u001b[0mconfig\u001b[0m\u001b[0;34m[\u001b[0m\u001b[0;34m'layers'\u001b[0m\u001b[0;34m]\u001b[0m\u001b[0;34m:\u001b[0m\u001b[0;34m\u001b[0m\u001b[0;34m\u001b[0m\u001b[0m\n\u001b[0;32m-> 1204\u001b[0;31m     \u001b[0mprocess_layer\u001b[0m\u001b[0;34m(\u001b[0m\u001b[0mlayer_data\u001b[0m\u001b[0;34m)\u001b[0m\u001b[0;34m\u001b[0m\u001b[0;34m\u001b[0m\u001b[0m\n\u001b[0m\u001b[1;32m   1205\u001b[0m   \u001b[0;31m# Then we process nodes in order of layer depth.\u001b[0m\u001b[0;34m\u001b[0m\u001b[0;34m\u001b[0m\u001b[0;34m\u001b[0m\u001b[0m\n\u001b[1;32m   1206\u001b[0m   \u001b[0;31m# Nodes that cannot yet be processed (if the inbound node\u001b[0m\u001b[0;34m\u001b[0m\u001b[0;34m\u001b[0m\u001b[0;34m\u001b[0m\u001b[0m\n",
            "\u001b[0;32m/usr/local/lib/python3.6/dist-packages/tensorflow/python/keras/engine/functional.py\u001b[0m in \u001b[0;36mprocess_layer\u001b[0;34m(layer_data)\u001b[0m\n\u001b[1;32m   1184\u001b[0m       \u001b[0;32mfrom\u001b[0m \u001b[0mtensorflow\u001b[0m\u001b[0;34m.\u001b[0m\u001b[0mpython\u001b[0m\u001b[0;34m.\u001b[0m\u001b[0mkeras\u001b[0m\u001b[0;34m.\u001b[0m\u001b[0mlayers\u001b[0m \u001b[0;32mimport\u001b[0m \u001b[0mdeserialize\u001b[0m \u001b[0;32mas\u001b[0m \u001b[0mdeserialize_layer\u001b[0m  \u001b[0;31m# pylint: disable=g-import-not-at-top\u001b[0m\u001b[0;34m\u001b[0m\u001b[0;34m\u001b[0m\u001b[0m\n\u001b[1;32m   1185\u001b[0m \u001b[0;34m\u001b[0m\u001b[0m\n\u001b[0;32m-> 1186\u001b[0;31m       \u001b[0mlayer\u001b[0m \u001b[0;34m=\u001b[0m \u001b[0mdeserialize_layer\u001b[0m\u001b[0;34m(\u001b[0m\u001b[0mlayer_data\u001b[0m\u001b[0;34m,\u001b[0m \u001b[0mcustom_objects\u001b[0m\u001b[0;34m=\u001b[0m\u001b[0mcustom_objects\u001b[0m\u001b[0;34m)\u001b[0m\u001b[0;34m\u001b[0m\u001b[0;34m\u001b[0m\u001b[0m\n\u001b[0m\u001b[1;32m   1187\u001b[0m       \u001b[0mcreated_layers\u001b[0m\u001b[0;34m[\u001b[0m\u001b[0mlayer_name\u001b[0m\u001b[0;34m]\u001b[0m \u001b[0;34m=\u001b[0m \u001b[0mlayer\u001b[0m\u001b[0;34m\u001b[0m\u001b[0;34m\u001b[0m\u001b[0m\n\u001b[1;32m   1188\u001b[0m \u001b[0;34m\u001b[0m\u001b[0m\n",
            "\u001b[0;32m/usr/local/lib/python3.6/dist-packages/tensorflow/python/keras/layers/serialization.py\u001b[0m in \u001b[0;36mdeserialize\u001b[0;34m(config, custom_objects)\u001b[0m\n\u001b[1;32m    173\u001b[0m       \u001b[0mmodule_objects\u001b[0m\u001b[0;34m=\u001b[0m\u001b[0mLOCAL\u001b[0m\u001b[0;34m.\u001b[0m\u001b[0mALL_OBJECTS\u001b[0m\u001b[0;34m,\u001b[0m\u001b[0;34m\u001b[0m\u001b[0;34m\u001b[0m\u001b[0m\n\u001b[1;32m    174\u001b[0m       \u001b[0mcustom_objects\u001b[0m\u001b[0;34m=\u001b[0m\u001b[0mcustom_objects\u001b[0m\u001b[0;34m,\u001b[0m\u001b[0;34m\u001b[0m\u001b[0;34m\u001b[0m\u001b[0m\n\u001b[0;32m--> 175\u001b[0;31m       printable_module_name='layer')\n\u001b[0m",
            "\u001b[0;32m/usr/local/lib/python3.6/dist-packages/tensorflow/python/keras/utils/generic_utils.py\u001b[0m in \u001b[0;36mdeserialize_keras_object\u001b[0;34m(identifier, module_objects, custom_objects, printable_module_name)\u001b[0m\n\u001b[1;32m    345\u001b[0m     \u001b[0mconfig\u001b[0m \u001b[0;34m=\u001b[0m \u001b[0midentifier\u001b[0m\u001b[0;34m\u001b[0m\u001b[0;34m\u001b[0m\u001b[0m\n\u001b[1;32m    346\u001b[0m     (cls, cls_config) = class_and_config_for_serialized_keras_object(\n\u001b[0;32m--> 347\u001b[0;31m         config, module_objects, custom_objects, printable_module_name)\n\u001b[0m\u001b[1;32m    348\u001b[0m \u001b[0;34m\u001b[0m\u001b[0m\n\u001b[1;32m    349\u001b[0m     \u001b[0;32mif\u001b[0m \u001b[0mhasattr\u001b[0m\u001b[0;34m(\u001b[0m\u001b[0mcls\u001b[0m\u001b[0;34m,\u001b[0m \u001b[0;34m'from_config'\u001b[0m\u001b[0;34m)\u001b[0m\u001b[0;34m:\u001b[0m\u001b[0;34m\u001b[0m\u001b[0;34m\u001b[0m\u001b[0m\n",
            "\u001b[0;32m/usr/local/lib/python3.6/dist-packages/tensorflow/python/keras/utils/generic_utils.py\u001b[0m in \u001b[0;36mclass_and_config_for_serialized_keras_object\u001b[0;34m(config, module_objects, custom_objects, printable_module_name)\u001b[0m\n\u001b[1;32m    294\u001b[0m   \u001b[0mcls\u001b[0m \u001b[0;34m=\u001b[0m \u001b[0mget_registered_object\u001b[0m\u001b[0;34m(\u001b[0m\u001b[0mclass_name\u001b[0m\u001b[0;34m,\u001b[0m \u001b[0mcustom_objects\u001b[0m\u001b[0;34m,\u001b[0m \u001b[0mmodule_objects\u001b[0m\u001b[0;34m)\u001b[0m\u001b[0;34m\u001b[0m\u001b[0;34m\u001b[0m\u001b[0m\n\u001b[1;32m    295\u001b[0m   \u001b[0;32mif\u001b[0m \u001b[0mcls\u001b[0m \u001b[0;32mis\u001b[0m \u001b[0;32mNone\u001b[0m\u001b[0;34m:\u001b[0m\u001b[0;34m\u001b[0m\u001b[0;34m\u001b[0m\u001b[0m\n\u001b[0;32m--> 296\u001b[0;31m     \u001b[0;32mraise\u001b[0m \u001b[0mValueError\u001b[0m\u001b[0;34m(\u001b[0m\u001b[0;34m'Unknown '\u001b[0m \u001b[0;34m+\u001b[0m \u001b[0mprintable_module_name\u001b[0m \u001b[0;34m+\u001b[0m \u001b[0;34m': '\u001b[0m \u001b[0;34m+\u001b[0m \u001b[0mclass_name\u001b[0m\u001b[0;34m)\u001b[0m\u001b[0;34m\u001b[0m\u001b[0;34m\u001b[0m\u001b[0m\n\u001b[0m\u001b[1;32m    297\u001b[0m \u001b[0;34m\u001b[0m\u001b[0m\n\u001b[1;32m    298\u001b[0m   \u001b[0mcls_config\u001b[0m \u001b[0;34m=\u001b[0m \u001b[0mconfig\u001b[0m\u001b[0;34m[\u001b[0m\u001b[0;34m'config'\u001b[0m\u001b[0;34m]\u001b[0m\u001b[0;34m\u001b[0m\u001b[0;34m\u001b[0m\u001b[0m\n",
            "\u001b[0;31mValueError\u001b[0m: Unknown layer: MyLayer"
          ]
        }
      ]
    },
    {
      "cell_type": "markdown",
      "metadata": {
        "id": "xM2gvBM11ib-"
      },
      "source": [
        "## 7. Use the model to translate\n",
        "Now it's time to put your model into practice! You should run your translation for five randomly sampled English sentences from the dataset. For each sentence, the process is as follows:\n",
        "* Preprocess and embed the English sentence according to the model requirements.\n",
        "* Pass the embedded sentence through the encoder to get the encoder hidden and cell states.\n",
        "* Starting with the special  `\"<start>\"` token, use this token and the final encoder hidden and cell states to get the one-step prediction from the decoder, as well as the decoder’s updated hidden and cell states.\n",
        "* Create a loop to get the next step prediction and updated hidden and cell states from the decoder, using the most recent hidden and cell states. Terminate the loop when the `\"<end>\"` token is emitted, or when the sentence has reached a maximum length.\n",
        "* Decode the output token sequence into German text and print the English text and the model's German translation."
      ]
    },
    {
      "cell_type": "code",
      "metadata": {
        "id": "bGnQtE7L1icA"
      },
      "source": [
        "sample_size=200\n",
        "sampled_n=np.random.randint(1,20000,sample_size)\n",
        "select_sent=list(np.array(english_sents)[sampled_n])\n",
        "select_ger=list(np.array(german_sents)[sampled_n])\n",
        "select_ger_pad=tokenizer.texts_to_sequences(select_ger)\n",
        "select_ger_pad=tf.keras.preprocessing.sequence.pad_sequences(select_ger_pad, value=0, padding='post', maxlen=14)\n",
        "in_training=[]\n",
        "for i in select_ger_pad.tolist():\n",
        "#  print(german_train.index(i))\n",
        "  if i in tuple(german_train.tolist()):\n",
        "    in_training.append(1)\n",
        "  else:\n",
        "    in_training.append(0)"
      ],
      "execution_count": null,
      "outputs": []
    },
    {
      "cell_type": "code",
      "metadata": {
        "id": "ohleJRcJ1icD"
      },
      "source": [
        "english_sents_processing=[sent.split() for sent in select_sent]\n",
        "english_sents_processing=[sent for sent in english_sents_processing if len(sent)<=13]\n",
        "english_sents_processing=[embedding_layer(tf.constant(sent)) for sent in english_sents_processing]\n",
        "english_sents_processing=[tf.pad(sent, paddings=[[13-tf.shape(sent)[0], 0],[0, 0]],constant_values=0.0) \n",
        "                          for sent in english_sents_processing]"
      ],
      "execution_count": null,
      "outputs": []
    },
    {
      "cell_type": "code",
      "metadata": {
        "id": "Unk60cEy1icI"
      },
      "source": [
        "german_total=[]\n",
        "for i in english_sents_processing:\n",
        "    generated_german=[]\n",
        "    next_input=tf.ones((1,1))\n",
        "    hidd,cell=encoder(tf.expand_dims(i,0))\n",
        "    while len(generated_german)<=14:\n",
        "        output,hidd,cell=decoder(next_input,[hidd,cell])\n",
        "        next_input=tf.argmax(output,axis=2)\n",
        "        next_word=tf.squeeze(next_input).numpy()\n",
        "        if next_word==2:\n",
        "            break\n",
        "        generated_german.append(next_word)\n",
        "    german_total.append(generated_german)\n",
        "german_total=tokenizer.sequences_to_texts(german_total)"
      ],
      "execution_count": null,
      "outputs": []
    },
    {
      "cell_type": "code",
      "metadata": {
        "id": "mingxKG7pi1C"
      },
      "source": [
        "#for i in range(len(select_sent)):\n",
        "#    print(select_sent[i],\"...to German...\",german_total[i])"
      ],
      "execution_count": null,
      "outputs": []
    },
    {
      "cell_type": "code",
      "metadata": {
        "id": "R2-9JkqRwsYL"
      },
      "source": [
        "def bleu_score(indices, mt_ger_orig):\n",
        "    mt_ger=mt_ger_orig.split()\n",
        "    mt_dic={}\n",
        "    length=min(2,len(mt_ger))\n",
        "    i=1\n",
        "    while i<=length:\n",
        "        for j in range(len(mt_ger)):\n",
        "            if i+j>len(mt_ger):\n",
        "                break\n",
        "            temp=' '.join(mt_ger[j:i+j])\n",
        "            if (i,temp) not in mt_dic:\n",
        "                mt_dic[(i,temp)]=1\n",
        "            else:\n",
        "                mt_dic[(i,temp)]+=1\n",
        "        i+=1\n",
        "\n",
        "    ref_dic={}\n",
        "    for words in mt_dic:\n",
        "        maxim=0\n",
        "        for i in indices:\n",
        "            count=0\n",
        "            index=0\n",
        "            while True:\n",
        "                if count==0:\n",
        "                    index-=1\n",
        "                index=german_sents_pure[i].find(words[1],index+1)\n",
        "                if index==-1:\n",
        "                    break\n",
        "                count+=1\n",
        "            if count>maxim:\n",
        "                maxim=count\n",
        "        if maxim>mt_dic[words]:\n",
        "            maxim=mt_dic[words]\n",
        "        ref_dic[words]=maxim\n",
        "    mt_scores=[0 for i in range(length)]\n",
        "    ref_scores=[0 for i in range(length)]\n",
        "    for i,j in mt_dic.items():\n",
        "        mt_scores[i[0]-1]=mt_scores[i[0]-1]+j\n",
        "        ref_scores[i[0]-1]=ref_scores[i[0]-1]+ref_dic[i]\n",
        "\n",
        "    p_scores=[]\n",
        "    for i in range(length):\n",
        "        if ref_scores[i]==0:\n",
        "            p_scores.append(1e-6)\n",
        "        else:\n",
        "            p_scores.append(ref_scores[i]/mt_scores[i])\n",
        "    p_scores=np.array(p_scores)\n",
        "\n",
        "    ref_avg=0\n",
        "    for i in indices:\n",
        "        ref_avg+=len(german_sents_pure[i])\n",
        "    ref_avg/=len(indices)    \n",
        "    if len(mt_ger_orig)>ref_avg:\n",
        "        BP=1\n",
        "    else:\n",
        "        BP=np.exp(1-ref_avg/len(mt_ger_orig))\n",
        "    bleu=BP*np.exp(np.sum((1/length)*np.log(p_scores)))  \n",
        "    return bleu"
      ],
      "execution_count": null,
      "outputs": []
    },
    {
      "cell_type": "code",
      "metadata": {
        "id": "sNrlFev0pcJG",
        "outputId": "50880db9-7b29-4c8d-97d5-c217094eba24",
        "colab": {
          "base_uri": "https://localhost:8080/",
          "height": 1000
        }
      },
      "source": [
        "bleu=[]\n",
        "for i in range(len(select_sent)):\n",
        "    indices=np.where(np.array(english_sents)==select_sent[i])[0]\n",
        "    mt_ger_orig=german_total[i]\n",
        "    bleu.append(bleu_score(indices,mt_ger_orig))\n",
        "\n",
        "val_avg=0\n",
        "train_avg=0\n",
        "for i in range(len(select_sent)):\n",
        "  if in_training[i]==0:\n",
        "    val_avg+=bleu[i]\n",
        "  else:\n",
        "    train_avg+=bleu[i]\n",
        "  print(in_training[i],\"*\",select_sent[i],'*',german_total[i],\"*bleu=\",bleu[i],\"*\",select_ger[i])\n",
        "\n",
        "print('Train avg=',train_avg/sample_size,\"; Val avg=\",val_avg/sample_size)"
      ],
      "execution_count": null,
      "outputs": [
        {
          "output_type": "stream",
          "text": [
            "0 * he nodded to me .  * er legte mich an . *bleu= 0.0006324555320336763 * <start> er nickte mir zu . <end>\n",
            "1 * he has bad eyes .  * er hat sich grosse fuesse . *bleu= 0.316227766016838 * <start> er hat schlechte augen . <end>\n",
            "0 * i misunderstood .  * ich habe dich gehoert . *bleu= 0.31847472408303007 * <start> ich verstand es falsch . <end>\n",
            "1 * tom isn't buying .  * tom hilft nicht . *bleu= 0.49999999999999994 * <start> tom kauft nicht . <end>\n",
            "1 * i didn't even ask .  * ich habe es nicht zerbrochen . *bleu= 0.35317738414411864 * <start> ich habe nicht einmal gefragt . <end>\n",
            "1 * tom smiled again .  * tom laechelte wieder . *bleu= 1.0 * <start> tom laechelte wieder . <end>\n",
            "1 * this is great .  * das ist gruselig . *bleu= 0.49999999999999994 * <start> das ist toll . <end>\n",
            "1 * that's personal .  * das ist seins . *bleu= 0.3351600230178196 * <start> das ist persoenlich . <end>\n",
            "1 * a cab is waiting .  * ein hund rannte . *bleu= 0.0007071067811865476 * <start> ein taxi wartet . <end>\n",
            "1 * i can't see tom .  * ich kann nicht hassen tom . *bleu= 0.3455747170954952 * <start> ich kann tom nicht sehen . <end>\n",
            "1 * let's keep it .  * machen wir es noch einmal . *bleu= 0.000577350269189626 * <start> belassen wir's dabei . <end>\n",
            "1 * no problem .  * niemand ist vollkommen . *bleu= 0.0005000000000000001 * <start> ohne probleme . <end>\n",
            "1 * you're talkative .  * sie sind redselig . *bleu= 0.9404436859277282 * <start> sie sind gespraechig . <end>\n",
            "0 * i made that up .  * ich habe das gemacht . *bleu= 0.6043511284947725 * <start> ich habe das erfunden . <end>\n",
            "1 * what's on ?  * was ist los ? *bleu= 1.0 * <start> was ist los ? <end>\n",
            "1 * don't tease tom .  * stoere tom nicht . *bleu= 0.6877352211813662 * <start> necke tom nicht . <end>\n",
            "1 * all is quiet .  * alle sind ruhig . *bleu= 0.49999999999999994 * <start> alles ist ruhig . <end>\n",
            "0 * maybe i can help .  * warum kann ich aufhoeren ? *bleu= 0.29281460331760123 * <start> vielleicht kann ich helfen . <end>\n",
            "1 * black suits you .  * schwarz steht ihnen . *bleu= 1.0 * <start> schwarz steht ihnen . <end>\n",
            "1 * just get lost .  * ziehen sie leine ! *bleu= 1.0 * <start> zieht leine ! <end>\n",
            "1 * tom stood up .  * tom sass auf zu . *bleu= 0.0007745966692414836 * <start> tom stand auf . <end>\n",
            "1 * i found your keys .  * ich habe ihre schluessel gefunden . *bleu= 0.9905213983193211 * <start> ich habe deine schluessel gefunden . <end>\n",
            "1 * is there a fee ?  * ist das ein vogel ? *bleu= 0.0005400788655465926 * <start> gibt es eine gebuehr ? <end>\n",
            "1 * remove your hat .  * waehlen sie ihre stimme von ! *bleu= 0.0004082482904638632 * <start> nimm deinen hut ab ! <end>\n",
            "0 * life is unfair .  * das leben ist kurz . *bleu= 0.5309192366899935 * <start> das leben ist unfair . <end>\n",
            "1 * i'm a botanist .  * ich bin krankenschwester . *bleu= 0.49999999999999994 * <start> ich bin botaniker . <end>\n",
            "1 * i think so .  * ich weiss das zu . *bleu= 0.36636852692631156 * <start> ich stimme dem zu . <end>\n",
            "1 * we disturbed him .  * wir stoerten ihn . *bleu= 0.846481724890614 * <start> wir stoerten ihn . <end>\n",
            "1 * i'm a lawyer .  * ich bin ein koch . *bleu= 0.36636852692631156 * <start> ich bin anwalt . <end>\n",
            "1 * it began to rain .  * es begann zu schneien . *bleu= 0.0007745966692414836 * <start> es fing an zu regnen . <end>\n",
            "1 * do you eat fish ?  * esst ihr fleisch ? *bleu= 0.49999999999999994 * <start> isst du fisch ? <end>\n",
            "1 * get away from me .  * weiche von mir ! *bleu= 1.0 * <start> weiche von mir ! <end>\n",
            "1 * tom was a farmer .  * tom war ein narr . *bleu= 0.3872983346207417 * <start> tom war landwirt . <end>\n",
            "1 * tom is a cook .  * tom ist koch . *bleu= 1.0 * <start> tom ist koch . <end>\n",
            "0 * this is a lion .  * das ist ein fueller . *bleu= 0.6175749200974654 * <start> das ist ein loewe . <end>\n",
            "0 * you're so skinny .  * du bist so sympathisch . *bleu= 0.6324555320336759 * <start> ihr seid so mager . <end>\n",
            "1 * check that .  * pruefen sie es mit . *bleu= 0.316227766016838 * <start> pruefen sie das nach ! <end>\n",
            "1 * i'm a good cook .  * ich bin ein guter koch . *bleu= 1.0 * <start> ich bin ein guter koch . <end>\n",
            "1 * i'm not too happy .  * ich bin nicht allzu gluecklich . *bleu= 1.0 * <start> ich bin nicht allzu gluecklich . <end>\n",
            "0 * let go of me !  * lass meinen arm gehen . *bleu= 0.0004472135954999582 * <start> lass mich los ! <end>\n",
            "1 * he took his book .  * er nahm den ball . *bleu= 0.36636852692631156 * <start> er nahm sein buch . <end>\n",
            "1 * owls are cute .  * eulen sind suess . *bleu= 0.9200444146293233 * <start> eulen sind suess . <end>\n",
            "1 * he began to sweat .  * er begann zu rennen . *bleu= 0.0006402548348938642 * <start> er fing an zu schwitzen . <end>\n",
            "1 * he bought a car .  * er hat ein auto gekauft . *bleu= 0.9417645335842486 * <start> er hat ein auto gekauft . <end>\n",
            "0 * the car started .  * die tuer ging an . *bleu= 0.5181233396058423 * <start> der motor ging an . <end>\n",
            "1 * who came ?  * wer ist gekommen ? *bleu= 1.0 * <start> wer kam ? <end>\n",
            "1 * we're geniuses .  * wir sind historiker . *bleu= 0.49999999999999994 * <start> wir sind genies . <end>\n",
            "0 * i'm cured .  * ich bin am hoffnung . *bleu= 0.3872983346207417 * <start> ich bin geheilt . <end>\n",
            "1 * i have diabetes .  * ich habe befehle . *bleu= 0.0006327469489917783 * <start> ich bin diabetiker . <end>\n",
            "1 * tom might faint .  * tom koennte sterben . *bleu= 0.29613000814794643 * <start> tom koennte in ohnmacht fallen . <end>\n",
            "1 * jesus loves you .  * jesus liebt euch . *bleu= 1.0 * <start> jesus liebt euch . <end>\n",
            "1 * it's almost time .  * es ist soweit . *bleu= 0.2933231097550158 * <start> es ist gleich so weit . <end>\n",
            "1 * who is she ?  * wer ist sie ? *bleu= 1.0 * <start> wer ist sie ? <end>\n",
            "1 * you've grown up .  * du bist gross geworden . *bleu= 0.9200444146293233 * <start> du bist erwachsen geworden . <end>\n",
            "0 * tom won't mind .  * tom wird nicht helfen . *bleu= 0.4466538125941811 * <start> tom wird nichts dagegen haben . <end>\n",
            "1 * that was quick .  * das war peinlich . *bleu= 0.49999999999999994 * <start> das ging schnell ! <end>\n",
            "1 * we left at .  * wir sind zu fuss gegangen . *bleu= 0.000577350269189626 * <start> wir gingen um . <end>\n",
            "1 * go away .  * mach die sause ! *bleu= 1.0 * <start> mach dich vom acker ! <end>\n",
            "0 * i'm flattered .  * ich bin fassungslos . *bleu= 0.0003461582271460379 * <start> ich fuehle mich sehr geschmeichelt . <end>\n",
            "1 * tom is eccentric .  * tom ist beduerftig . *bleu= 0.47561471225035695 * <start> tom ist exzentrisch . <end>\n",
            "1 * only tom smiled .  * interessiert tom . *bleu= 0.000772372672058582 * <start> nur tom laechelte . <end>\n",
            "1 * i'll manage .  * ich werde klarkommen . *bleu= 0.9340906234779492 * <start> ich werde zurechtkommen . <end>\n",
            "1 * is that mine ?  * ist das hier ? *bleu= 0.46553138985201137 * <start> ist das meins ? <end>\n",
            "1 * you know me .  * sie kennen mich . *bleu= 1.0 * <start> du kennst mich . <end>\n",
            "1 * what's on tv ?  * was ist mit ihr ? *bleu= 0.00040684547394674093 * <start> was laeuft im fernsehen ? <end>\n",
            "1 * she blushed .  * sie lief rot an . *bleu= 1.0 * <start> sie lief rot an . <end>\n",
            "1 * i have a big dog .  * ich habe ein rosa auto . *bleu= 0.41928212624292127 * <start> ich habe einen grossen hund . <end>\n",
            "1 * it's not fair .  * es ist nicht einfach . *bleu= 0.0006324555320336763 * <start> das ist ungerecht . <end>\n",
            "0 * did tom say why ?  * hat tom einen gesehen ? *bleu= 0.3708200949299039 * <start> hat tom gesagt , warum ? <end>\n",
            "1 * did tom escape ?  * ist tom gegangen ? *bleu= 0.47297973445338265 * <start> ist tom entkommen ? <end>\n",
            "1 * i loved the play .  * ich hab die stueck geliebt . *bleu= 0.7745966692414834 * <start> ich hab das stueck geliebt . <end>\n",
            "0 * my wallet's gone .  * mein fuss schmerzt . *bleu= 0.0003340135926488845 * <start> mein geldbeutel ist verschwunden . <end>\n",
            "1 * how nice !  * wie nett ! *bleu= 0.0006684908605885549 * <start> wie schoen ! <end>\n",
            "0 * come with me now .  * komm jetzt mit mir . *bleu= 0.8898817709880238 * <start> kommen sie jetzt mit mir . <end>\n",
            "0 * it's the cops !  * es ist ihre pflicht . *bleu= 1.0000000000000004e-06 * <start> die bullen ! <end>\n",
            "1 * you're selfish .  * du bist naiv . *bleu= 0.24477082977847656 * <start> du bist selbstsuechtig . <end>\n",
            "1 * tom obeyed .  * tom hat sich beschwert . *bleu= 0.6324555320336759 * <start> tom gehorchte . <end>\n",
            "1 * that one's ok .  * dieser ist da . *bleu= 0.0006633133985021889 * <start> die da ist ok . <end>\n",
            "1 * are you married ?  * sind sie blind ? *bleu= 0.35455309121869916 * <start> bist du verheiratet ? <end>\n",
            "0 * tom seems lonely .  * tom scheint krank zu sein . *bleu= 0.6813966927910571 * <start> tom scheint einsam zu sein . <end>\n",
            "1 * i'm not a monster .  * ich bin kein dummkopf . *bleu= 0.6324555320336759 * <start> ich bin kein monster . <end>\n",
            "0 * he hates spiders .  * er hasst sie nicht . *bleu= 0.3661475238303926 * <start> er verabscheut spinnen . <end>\n",
            "1 * ask around .  * fragen sie herum . *bleu= 1.0 * <start> frag herum . <end>\n",
            "0 * everyone noticed .  * alle beteten . *bleu= 0.0004835782783257962 * <start> jeder hat's gemerkt . <end>\n",
            "0 * who ran ?  * wer hat ueberlebt ? *bleu= 0.0007071067811865476 * <start> wer ist gerannt ? <end>\n",
            "0 * that was magic .  * das war peinlich . *bleu= 0.4474196584071848 * <start> das war zauberhaft . <end>\n",
            "1 * is he american ?  * ist er amerikaner ? *bleu= 1.0 * <start> ist er amerikaner ? <end>\n",
            "1 * why don't you go ?  * warum setzen du nicht ? *bleu= 0.6324555320336759 * <start> warum gehst du nicht ? <end>\n",
            "1 * tom has a dog .  * tom hat einen anwalt . *bleu= 0.6324555320336759 * <start> tom hat einen hund . <end>\n",
            "1 * i bought a vw bus .  * ich habe einen bulli gekauft . *bleu= 0.9834714538216176 * <start> ich habe einen vw bus gekauft . <end>\n",
            "1 * tom worked .  * tom hat gewonnen . *bleu= 0.49999999999999994 * <start> tom hat gearbeitet . <end>\n",
            "1 * i'm a bit groggy .  * ich bin ein bisschen muede . *bleu= 0.6822986075407242 * <start> ich bin ein bisschen groggy . <end>\n",
            "1 * what's it to you ?  * was bedeutet es dir ? *bleu= 1.0 * <start> was bedeutet es dir ? <end>\n",
            "0 * i drink wine .  * ich esse kaese . *bleu= 0.000664265347050633 * <start> ich trinke wein . <end>\n",
            "1 * i am online .  * ich bin jahre alt . *bleu= 0.3872983346207417 * <start> ich bin online . <end>\n",
            "1 * is tom available ?  * ist tom verfuegbar ? *bleu= 1.0 * <start> ist tom verfuegbar ? <end>\n",
            "1 * throw the dice .  * fahre die treppe fallen . *bleu= 1.0000000000000004e-06 * <start> wuerfle ! <end>\n",
            "1 * that's fantastic .  * das ist suess . *bleu= 0.2560080470312728 * <start> das ist phantastisch ! <end>\n",
            "1 * tom lied to me .  * tom hat mich zweimal verlassen . *bleu= 0.5163977794943222 * <start> tom hat mich angelogen . <end>\n",
            "0 * we're plastered .  * wir sind am gewinnen . *bleu= 0.3536423867571266 * <start> wir sind stockbesoffen . <end>\n",
            "1 * don't get fat .  * lassen sie sich nicht erwischen . *bleu= 0.000577350269189626 * <start> werd nicht dick . <end>\n",
            "1 * i eat everything .  * ich esse spielfilme . *bleu= 0.49999999999999994 * <start> ich bin ein allesesser . <end>\n",
            "1 * tom danced .  * tom tanzte . *bleu= 1.0 * <start> tom tanzte . <end>\n",
            "1 * give me my money .  * gib mir mein geld . *bleu= 1.0 * <start> gib mir mein geld . <end>\n",
            "0 * tom needs money .  * tom braucht wasser . *bleu= 0.49999999999999994 * <start> tom braucht geld . <end>\n",
            "1 * take a card .  * nehmen sie eine karte ! *bleu= 1.0 * <start> nehmen sie eine karte ! <end>\n",
            "1 * keep away .  * haltet euch warm . *bleu= 0.0005000000000000001 * <start> bleib weg . <end>\n",
            "1 * they aren't dead .  * sie sind nicht tot . *bleu= 1.0 * <start> sie sind nicht tot . <end>\n",
            "1 * i'll let tom know .  * ich werde maria tom geben . *bleu= 0.5166357204442372 * <start> ich werde tom bescheid geben . <end>\n",
            "1 * i've been working .  * ich bin arbeiten . *bleu= 0.4600222073146616 * <start> ich habe gearbeitet . <end>\n",
            "1 * can you chip in ?  * kannst du auch rennen ? *bleu= 0.302394354436307 * <start> kannst du dich auch beteiligen ? <end>\n",
            "1 * it's your turn .  * es ist ihre fluch . *bleu= 0.0006324555320336763 * <start> du bist am zug . <end>\n",
            "1 * he put up a flag .  * er hat einen fuss auf ihn verlassen . *bleu= 0.0005000000000000001 * <start> er hisste die flagge . <end>\n",
            "1 * they will help .  * sie werden helfen ? *bleu= 0.7071067811865475 * <start> sie werden helfen . <end>\n",
            "1 * i have a cold .  * ich habe einen schnupfen . *bleu= 1.0 * <start> ich habe einen schnupfen . <end>\n",
            "1 * is he correct ?  * ist er das ? *bleu= 0.0005985529678206388 * <start> hat er recht ? <end>\n",
            "1 * we depend on you .  * wir verstehen uns ein auto . *bleu= 0.0005439869867336223 * <start> wir sind auf sie angewiesen . <end>\n",
            "1 * you are blushing .  * sie sind starrsinnig . *bleu= 1.0000000000000004e-06 * <start> du wirst rot ! <end>\n",
            "1 * tom's sad .  * tom ist nicht witzig . *bleu= 0.3872983346207417 * <start> tom ist traurig . <end>\n",
            "0 * i got a bad grade .  * ich habe einen platten . *bleu= 0.2073058598521241 * <start> ich habe eine schlechte note bekommen . <end>\n",
            "1 * that's wonderful .  * das ist wunderbar ! *bleu= 1.0 * <start> das ist ganz toll ! <end>\n",
            "1 * i like jazz .  * ich mag jazz . *bleu= 0.8364643072929833 * <start> ich mag jazzmusik . <end>\n",
            "0 * it's too soon .  * es ist zu niedrig . *bleu= 0.6324555320336759 * <start> es ist zu frueh . <end>\n",
            "1 * you've earned it .  * du hast es verdient . *bleu= 0.9534969548334766 * <start> du hast es verdient . <end>\n",
            "1 * do you know us ?  * kennt ihr uns ? *bleu= 0.9780228724846004 * <start> kennst du uns ? <end>\n",
            "1 * tom can't do it .  * tom kann es nicht . *bleu= 1.0 * <start> tom kann es nicht . <end>\n",
            "1 * he came by bus .  * er kam im morgengrauen . *bleu= 0.3793130877868186 * <start> er ist mit dem bus gekommen . <end>\n",
            "1 * i couldn't get it .  * ich konnte es nicht erreichen . *bleu= 0.36514837167011077 * <start> ich habe es nicht bekommen . <end>\n",
            "1 * i'm going running .  * ich gehe . *bleu= 0.00024659696394160657 * <start> ich werde laufen gehen . <end>\n",
            "1 * we don't want it .  * wir wollen es nicht . *bleu= 1.0 * <start> wir wollen es nicht . <end>\n",
            "1 * tom stepped away .  * tom ging alleine . *bleu= 0.0007071067811865476 * <start> tom trat weg . <end>\n",
            "1 * they saw you .  * sie haben sie gesehen . *bleu= 0.6055466792991228 * <start> sie haben dich gesehen . <end>\n",
            "1 * i see someone .  * ich sehe jemanden . *bleu= 1.0 * <start> ich sehe jemanden . <end>\n",
            "1 * sit down !  * setz dich auf ! *bleu= 0.49999999999999994 * <start> setzen sie sich ! <end>\n",
            "1 * let's play cards .  * lasst uns vater , mutter , kind spielen es vor . *bleu= 0.19069251784911848 * <start> lasst uns karten spielen . <end>\n",
            "1 * who's dying ?  * wer stirbt ? *bleu= 0.6592406302004437 * <start> wer liegt im sterben ? <end>\n",
            "1 * i'll work hard .  * ich werde abnehmen . *bleu= 0.3523440448593566 * <start> ich werde mich anstrengen . <end>\n",
            "1 * say cheese .  * sag das weiss ! *bleu= 0.0003582656552868947 * <start> bitte recht freundlich ! <end>\n",
            "0 * don't be too sure .  * seien sie sich da nicht so sicher ! *bleu= 0.7905694150420949 * <start> seid euch da nicht zu sicher ! <end>\n",
            "1 * you lost .  * du hast gemogelt . *bleu= 0.47297973445338265 * <start> du hast verloren . <end>\n",
            "1 * walk this way .  * geh sofort entlang ! *bleu= 0.46387174316427643 * <start> gehen sie hier entlang ! <end>\n",
            "1 * did you say ?  * hast du das ernst ? *bleu= 0.0005692653985383013 * <start> sagtet ihr dreissig ? <end>\n",
            "1 * tom is great .  * tom ist sehr stark . *bleu= 0.3872983346207417 * <start> tom ist grossartig . <end>\n",
            "0 * tom wasn't fat .  * tom war nicht arm . *bleu= 0.6000292080398285 * <start> tom war nicht dick . <end>\n",
            "1 * sorry to be late .  * entschuldige dich nichts aus . *bleu= 0.0004737695510044902 * <start> entschuldige die verspaetung ! <end>\n",
            "1 * i make the rules .  * ich benutze das . *bleu= 0.0005269280657746135 * <start> ich mache die regeln . <end>\n",
            "1 * i like tom a lot .  * ich mag mein hemd . *bleu= 0.00024524102243171045 * <start> tom ist mir unglaublich sympathisch . <end>\n",
            "1 * cheers !  * zum wohl ! *bleu= 1.0 * <start> zum wohl ! <end>\n",
            "1 * tom is dishonest .  * tom ist unmoralisch . *bleu= 0.49999999999999994 * <start> tom ist unehrlich . <end>\n",
            "1 * no , thank you .  * es kommt niemand zu helfen . *bleu= 0.0004082482904638632 * <start> nein , danke . <end>\n",
            "0 * he is on the team .  * er ist an ihrer seite . *bleu= 0.3204957405004828 * <start> er ist in der mannschaft . <end>\n",
            "1 * i'm able to run .  * ich muss gewinnen . *bleu= 0.0007071067811865476 * <start> ich kann rennen . <end>\n",
            "1 * we're objective .  * wir sind objektiv . *bleu= 1.0 * <start> wir sind objektiv . <end>\n",
            "0 * don't deceive tom .  * stoere tom nicht . *bleu= 0.6327469489917781 * <start> taeusche tom nicht . <end>\n",
            "1 * i'm sick .  * ich bin depressiv . *bleu= 0.408248290463863 * <start> ich bin krank ! <end>\n",
            "1 * they're awake .  * sie sind wach . *bleu= 1.0 * <start> sie sind wach . <end>\n",
            "1 * give it a rest .  * versucht es auf ! *bleu= 0.00033124006769696317 * <start> mach mal schluss damit ! <end>\n",
            "1 * i'll phone you .  * ich werde dich anrufen . *bleu= 1.0 * <start> ich werde sie anrufen . <end>\n",
            "0 * tom didn't shoot .  * tom hat nicht gebetet . *bleu= 0.5551149061562466 * <start> tom hat nicht geschossen . <end>\n",
            "1 * a dog was running .  * ein hund rannte . *bleu= 1.0 * <start> ein hund rannte . <end>\n",
            "1 * there's a table .  * die katze ist in sicherheit . *bleu= 0.0007071067811865476 * <start> da ist ein tisch . <end>\n",
            "1 * i want tom here .  * ich will tom hier . *bleu= 0.6315169416555094 * <start> ich will tom hier haben . <end>\n",
            "0 * sharks eat fish .  * katzen geben milch . *bleu= 0.0004756147122503571 * <start> haie fressen fische . <end>\n",
            "1 * go with these men .  * geh mit diesen maennern . *bleu= 0.9108898197456122 * <start> geh mit diesen maennern . <end>\n",
            "0 * i need support .  * ich brauche privatsphaere . *bleu= 0.4818202221506431 * <start> ich brauche unterstuetzung . <end>\n",
            "1 * it's rush hour .  * es liegt auf dem bett . *bleu= 0.0005527859597907938 * <start> es ist hauptgeschaeftszeit . <end>\n",
            "1 * here's .  * hier ist das . *bleu= 0.0004773855979855369 * <start> . hier sind , . <end>\n",
            "1 * that isn't fair .  * das ist nicht blond . *bleu= 1.0 * <start> das ist ungerecht . <end>\n",
            "1 * let's live here .  * lasst uns hier leben . *bleu= 1.0 * <start> lasst uns hier leben . <end>\n",
            "1 * i'm years old .  * ich bin fuenfundzwanzig jahre alt . *bleu= 1.0 * <start> ich bin fuenfundzwanzig jahre alt . <end>\n",
            "1 * you're welcome .  * sie sind gerade da . *bleu= 0.0006324555320336763 * <start> bitte . <end>\n",
            "1 * do you like grits ?  * moegen sie hunde ? *bleu= 0.00029495721757242 * <start> schmeckt ihnen maisgruetze ? <end>\n",
            "1 * you're very rude .  * du bist sehr unhoeflich ! *bleu= 0.7745966692414834 * <start> du bist sehr unhoeflich . <end>\n",
            "1 * do you eat fish ?  * esst ihr fleisch ? *bleu= 0.49999999999999994 * <start> essen sie fisch ? <end>\n",
            "1 * i was speechless .  * ich war entsetzt . *bleu= 0.47297973445338265 * <start> ich war sprachlos . <end>\n",
            "1 * he loves her .  * er liebt mich an . *bleu= 0.3872983346207417 * <start> er liebt sie . <end>\n",
            "1 * leave that to me .  * ueberlassen sie das mir ! *bleu= 1.0 * <start> ueberlasse das mir ! <end>\n",
            "1 * do you follow ?  * koennt ihr mir folgen ? *bleu= 1.0 * <start> koennen sie mir folgen ? <end>\n",
            "1 * drinks are on me .  * getraenke gehen auf . *bleu= 0.643503513388726 * <start> getraenke gehen auf mich . <end>\n",
            "1 * don't count on it .  * verlass dich nicht drauf . *bleu= 0.9809529623602028 * <start> verlass dich nicht darauf . <end>\n",
            "1 * i'm a medic .  * ich bin krankenschwester . *bleu= 0.49999999999999994 * <start> ich bin arzt . <end>\n",
            "1 * we'll take this .  * wir rufen sie . *bleu= 0.000523837587470595 * <start> wir werden das nehmen . <end>\n",
            "0 * who removed it ?  * wer hat sie weggeraeumt ? *bleu= 1.0 * <start> wer hat ihn weggenommen ? <end>\n",
            "0 * i love music , too .  * ich liebe die afroamerikanische kueche . *bleu= 0.316227766016838 * <start> auch ich liebe musik . <end>\n",
            "0 * just try it .  * probiere es einfach mal aus ! *bleu= 0.0007071067811865476 * <start> versucht es doch einfach ! <end>\n",
            "1 * i have a cold .  * ich habe einen schnupfen . *bleu= 1.0 * <start> ich leide an einer erkaeltung . <end>\n",
            "1 * i'll get ready .  * ich werde mich umziehen . *bleu= 0.0007745966692414836 * <start> ich mache mich fertig . <end>\n",
            "1 * i'm sick of this .  * ich habe auch gerade daran tun . *bleu= 0.26726124191242434 * <start> ich habe die nase voll davon . <end>\n",
            "1 * can you see them ?  * kannst du es sehen ? *bleu= 0.6016103117586864 * <start> kannst du sie sehen ? <end>\n",
            "1 * she attacked him .  * sie hat ihn vermisst . *bleu= 0.6324555320336759 * <start> sie hat ihn angegriffen . <end>\n",
            "1 * i love this chair .  * ich liebe diesen stuhl . *bleu= 1.0 * <start> ich liebe diesen stuhl . <end>\n",
            "0 * tom was naughty .  * tom war eifersuechtig . *bleu= 0.49999999999999994 * <start> tom war unartig . <end>\n",
            "1 * tom saw her .  * tom hat sie gesehen . *bleu= 1.0 * <start> tom hat sie gesehen . <end>\n",
            "0 * i giggled .  * ich lachte . *bleu= 0.0006911494341909907 * <start> ich kicherte . <end>\n",
            "1 * let's start .  * fangen wir an ! *bleu= 1.0 * <start> fangen wir an ! <end>\n",
            "1 * tom was tasered .  * tom war in boston . *bleu= 0.0002849581898138176 * <start> tom wurde mit einem taser beschossen . <end>\n",
            "1 * tom is winning .  * tom ist da . *bleu= 0.30326532985631666 * <start> tom gewinnt . <end>\n",
            "1 * tom seemed bossy .  * tom schien rechthaberisch zu sein . *bleu= 1.0 * <start> tom schien rechthaberisch zu sein . <end>\n",
            "1 * tom wasn't rude .  * tom war nicht unhoeflich . *bleu= 1.0 * <start> tom war nicht unhoeflich . <end>\n",
            "1 * that's true .  * das ist seins . *bleu= 0.0007071067811865476 * <start> das stimmt . <end>\n",
            "Train avg= 0.42520295040053263 ; Val avg= 0.07000114510153113\n"
          ],
          "name": "stdout"
        }
      ]
    },
    {
      "cell_type": "code",
      "metadata": {
        "id": "oXirsNTg0IVP"
      },
      "source": [
        ""
      ],
      "execution_count": null,
      "outputs": []
    }
  ]
}